{
  "nbformat": 4,
  "nbformat_minor": 0,
  "metadata": {
    "colab": {
      "name": "chapter.9_1~2.ipynb",
      "provenance": [],
      "collapsed_sections": [],
      "authorship_tag": "ABX9TyP03vVeZo8EQb8JqtKWbE2Q",
      "include_colab_link": true
    },
    "kernelspec": {
      "name": "python3",
      "display_name": "Python 3"
    },
    "language_info": {
      "name": "python"
    },
    "accelerator": "GPU"
  },
  "cells": [
    {
      "cell_type": "markdown",
      "metadata": {
        "id": "view-in-github",
        "colab_type": "text"
      },
      "source": [
        "<a href=\"https://colab.research.google.com/github/kjm12misa/Google_drive/blob/main/Python/chapter_9_1~2.ipynb\" target=\"_parent\"><img src=\"https://colab.research.google.com/assets/colab-badge.svg\" alt=\"Open In Colab\"/></a>"
      ]
    },
    {
      "cell_type": "markdown",
      "source": [
        "## Chapter.9_1"
      ],
      "metadata": {
        "id": "avczkNTpxJaq"
      }
    },
    {
      "cell_type": "markdown",
      "source": [
        "### 순차 데이터와 순환 신경망\n",
        "- 초급 레벨 : 기초통계(t.test, 분산분석, 회귀분석 등)\n",
        "- 중급 레벨 : **시계열 분석**/베이지안(?)/비모수검정(?)\n",
        " + 시계열 데이터 : 주식, 날씨, 매장 매출\n",
        "\n",
        "----> R로 공부 추천\n",
        "\n",
        "### 텍스트\n",
        "- 텍스트 마이닝 (데이터 분석가)\n",
        " + 대표적으로 감정분석(긍정/부정 분류)\n",
        " + 문자열 : 인코딩하는 방법론이 존재\n",
        "- 자연어 처리(개발자 해당)\n",
        " + 챗봇 (툴은 다 존재)\n",
        " + 자동 번역\n",
        "- 기본 딥러닝 알고리즘/RNN&LSTM\n",
        " + 현실에서 쓰지 않음\n",
        " + 자료\n",
        " --> 딥러닝을 이용한 자연어 처리 입문 (텐서플로) : https://wikidocs.net/book/2155 : 08. 순환 신경망 파트만 맛보라.\n",
        " --> Pytorch로 시작하는 딥러닝 입문 : https://wikidocs.net/32471\n",
        "\n",
        "#### p. 489~ 490\n",
        "- 순환 신경망(재학습) : input layer에서 순환 말그대로 돌고 도니까~\n",
        " + c 13 -> 데이터(OA 출력, 다시 순환 OB 출력, 다시 순환...) ->... 이걸 순차적 데이터라고 부른다.\n",
        "- 이미지\n",
        " --> 픽셀값이 어느정도 고정이 되어 있음\n",
        " --> 28 x 28로 정의/모든 데이터는 28 x 28 맞출 수 있음\n",
        "- 텍스트\n",
        " --> 값의 고정이 불가\n",
        " --> 같은 의미"
      ],
      "metadata": {
        "id": "glpo9nDfxN7G"
      }
    },
    {
      "cell_type": "markdown",
      "source": [
        "### Chapter.9_2(나와는 상관없는 일, 정보만 알아두기_딥러닝)\n",
        "- 순환 신경망으로 IMDB 리뷰 분류\n",
        " + P.501\n",
        " + 주제 : 긍정리뷰 부정리뷰 분류\n",
        "- RNN, LSTM 알고리즘\n",
        " + 자연어 처리와 관련된 많은 알고리즘은 영어로만 이루어짐.\n",
        " + 실무에서 성과를 내려면 제품을 사용(네이버)"
      ],
      "metadata": {
        "id": "d7EmhgAZ6cCa"
      }
    },
    {
      "cell_type": "markdown",
      "source": [
        ""
      ],
      "metadata": {
        "id": "s8k_qkWuolaO"
      }
    },
    {
      "cell_type": "code",
      "source": [
        "from tensorflow.keras.datasets import imdb\n",
        "(train_input, train_target), (test_input, test_target) = imdb.load_data(num_words=500)"
      ],
      "metadata": {
        "colab": {
          "base_uri": "https://localhost:8080/"
        },
        "id": "lPnB2OGemtVw",
        "outputId": "de0a1e41-d3ab-49d9-d34a-ccbdb67ce491"
      },
      "execution_count": null,
      "outputs": [
        {
          "output_type": "stream",
          "name": "stdout",
          "text": [
            "Downloading data from https://storage.googleapis.com/tensorflow/tf-keras-datasets/imdb.npz\n",
            "17465344/17464789 [==============================] - 0s 0us/step\n",
            "17473536/17464789 [==============================] - 0s 0us/step\n"
          ]
        }
      ]
    },
    {
      "cell_type": "markdown",
      "source": [
        "- 데이터 크기 확인(1차원 배열)\n",
        " + 텍스트 길이가 다 다르기 때문에 1차원 배열로 정리 가능"
      ],
      "metadata": {
        "id": "X8UJrXS1ntes"
      }
    },
    {
      "cell_type": "code",
      "source": [
        "print(train_input.shape, test_input.shape)"
      ],
      "metadata": {
        "colab": {
          "base_uri": "https://localhost:8080/"
        },
        "id": "6SOXvk6qmt1N",
        "outputId": "ee4b8637-27c0-47db-b4e8-4a09a9999da1"
      },
      "execution_count": null,
      "outputs": [
        {
          "output_type": "stream",
          "name": "stdout",
          "text": [
            "(25000,) (25000,)\n"
          ]
        }
      ]
    },
    {
      "cell_type": "markdown",
      "source": [
        "- 이 수식은 문장의 길이가 다 다르다."
      ],
      "metadata": {
        "id": "BWh-SUIJn9nV"
      }
    },
    {
      "cell_type": "code",
      "source": [
        "print(len(train_input[0]))\n",
        "print(len(train_input[1]))\n",
        "print(len(train_input[2]))"
      ],
      "metadata": {
        "colab": {
          "base_uri": "https://localhost:8080/"
        },
        "id": "7BSxbXGwmtym",
        "outputId": "fe190e24-6f2b-4702-d9f6-5f11ab7f4e96"
      },
      "execution_count": null,
      "outputs": [
        {
          "output_type": "stream",
          "name": "stdout",
          "text": [
            "218\n",
            "189\n",
            "141\n"
          ]
        }
      ]
    },
    {
      "cell_type": "markdown",
      "source": [
        "- Raw 데이터 전처리 -> 토큰화 작업이 끝난 상황(문자열 -> 숫자로 바뀜)\n",
        "- imdb.load_data() 함수는 전체 어휘사전에 있는 단어를 등장 횟수 순서대로 나열한 다음 가장 많이 등장한 (지정숫자)만큼 단어를 선택.\n",
        " + load_data(num_words=500) -> 앞에 불러올 데이터를 단어 500개로 지정.\n",
        " + num_words=500으로 지정했기 때문에 어휘 사전에는 500개의 단어만 들어가 있음. 따라서, 어휘사전에 없는 단어는 모두 2로 표시 되었다. "
      ],
      "metadata": {
        "id": "CBLXJetSoIUl"
      }
    },
    {
      "cell_type": "code",
      "source": [
        "print(train_input[0])"
      ],
      "metadata": {
        "colab": {
          "base_uri": "https://localhost:8080/"
        },
        "id": "vYXbxwyVmtTV",
        "outputId": "2ed8b99d-146b-4128-fd6c-182fa345c46a"
      },
      "execution_count": null,
      "outputs": [
        {
          "output_type": "stream",
          "name": "stdout",
          "text": [
            "[1, 14, 22, 16, 43, 2, 2, 2, 2, 65, 458, 2, 66, 2, 4, 173, 36, 256, 5, 25, 100, 43, 2, 112, 50, 2, 2, 9, 35, 480, 284, 5, 150, 4, 172, 112, 167, 2, 336, 385, 39, 4, 172, 2, 2, 17, 2, 38, 13, 447, 4, 192, 50, 16, 6, 147, 2, 19, 14, 22, 4, 2, 2, 469, 4, 22, 71, 87, 12, 16, 43, 2, 38, 76, 15, 13, 2, 4, 22, 17, 2, 17, 12, 16, 2, 18, 2, 5, 62, 386, 12, 8, 316, 8, 106, 5, 4, 2, 2, 16, 480, 66, 2, 33, 4, 130, 12, 16, 38, 2, 5, 25, 124, 51, 36, 135, 48, 25, 2, 33, 6, 22, 12, 215, 28, 77, 52, 5, 14, 407, 16, 82, 2, 8, 4, 107, 117, 2, 15, 256, 4, 2, 7, 2, 5, 2, 36, 71, 43, 2, 476, 26, 400, 317, 46, 7, 4, 2, 2, 13, 104, 88, 4, 381, 15, 297, 98, 32, 2, 56, 26, 141, 6, 194, 2, 18, 4, 226, 22, 21, 134, 476, 26, 480, 5, 144, 30, 2, 18, 51, 36, 28, 224, 92, 25, 104, 4, 226, 65, 16, 38, 2, 88, 12, 16, 283, 5, 16, 2, 113, 103, 32, 15, 16, 2, 19, 178, 32]\n"
          ]
        }
      ]
    },
    {
      "cell_type": "markdown",
      "source": [
        "- 문제는 리뷰가 긍정인지 부정인지를 판단하는 것.\n",
        " + 그렇다면, 이건 이진 분류 문제로 볼 수 있어 타깃값이 0(부정)과 1(긍정)으로 나뉨.\n",
        " + 훈련세트와 검증세트로 나누자."
      ],
      "metadata": {
        "id": "xAtnR20dpqxN"
      }
    },
    {
      "cell_type": "code",
      "source": [
        "print(train_target[:20])"
      ],
      "metadata": {
        "colab": {
          "base_uri": "https://localhost:8080/"
        },
        "id": "BBzFRVGYmtQ0",
        "outputId": "2beb616a-9e42-412d-cfa4-b0e12250b04d"
      },
      "execution_count": null,
      "outputs": [
        {
          "output_type": "stream",
          "name": "stdout",
          "text": [
            "[1 0 0 1 0 0 1 0 1 0 1 0 0 0 0 0 1 1 0 1]\n"
          ]
        }
      ]
    },
    {
      "cell_type": "markdown",
      "source": [
        "- test_size = 0.2 --> 사이즈가 20%를 검증 세트로 떼어줫다 라는 건가?\n",
        " + 원래 훈련세트 크기는 25,000개, 20%를 검증 세트로 떼어 주면 훈련 세트의 크기는 20,000개로 줄어든다."
      ],
      "metadata": {
        "id": "jBj2ZDfuqq10"
      }
    },
    {
      "cell_type": "markdown",
      "source": [
        "#### 훈련과 검증세트로 나뉘기"
      ],
      "metadata": {
        "id": "q5_n14kJyoP-"
      }
    },
    {
      "cell_type": "code",
      "source": [
        "from sklearn.model_selection import train_test_split\n",
        "train_input, val_input, train_target, val_target = train_test_split(\n",
        "    train_input, train_target, test_size=0.2, random_state=42)\n",
        "\n",
        "train_input.shape, val_input.shape, train_target.shape, val_target.shape"
      ],
      "metadata": {
        "colab": {
          "base_uri": "https://localhost:8080/"
        },
        "id": "k0nh6SSYmsw9",
        "outputId": "3a34f1b6-3b54-41ff-9b8c-f8848814ebfb"
      },
      "execution_count": null,
      "outputs": [
        {
          "output_type": "execute_result",
          "data": {
            "text/plain": [
              "((20000,), (5000,), (20000,), (5000,))"
            ]
          },
          "metadata": {},
          "execution_count": 7
        }
      ]
    },
    {
      "cell_type": "markdown",
      "source": [
        "### 데이터 시각화(준비와 실행)"
      ],
      "metadata": {
        "id": "aYICMn1RvtjI"
      }
    },
    {
      "cell_type": "markdown",
      "source": [
        "- 넘파이의 mean(), median() 함수를 사용\n",
        " + 리뷰 길이의 평균과 중간값\n",
        " + 리뷰 평균 단어 개수가 239개, 중간값이 178개 이것으로 보아 이 리뷰 길이 데이터는 한쪽에 치우친 분포로 보인다."
      ],
      "metadata": {
        "id": "DbWcfzb7uyOo"
      }
    },
    {
      "cell_type": "code",
      "source": [
        "import numpy as np\n",
        "#temp_list = [len(x) for x in train_input] # train_input을 x 라는 변수에 하나씩 넣어(반복) 출력하되 len() 함수 출력된 값의 길이를 출력한다.\n",
        "#print(temp_list)\n",
        "lengths = np.array([len(x) for x in train_input])\n",
        "print(np.mean(lengths), np.median(lengths))"
      ],
      "metadata": {
        "colab": {
          "base_uri": "https://localhost:8080/"
        },
        "id": "aJG2hvM9powv",
        "outputId": "a1069a90-155d-4f60-efbc-d15d6dc5e9ec"
      },
      "execution_count": null,
      "outputs": [
        {
          "output_type": "stream",
          "name": "stdout",
          "text": [
            "239.00925 178.0\n"
          ]
        }
      ]
    },
    {
      "cell_type": "code",
      "source": [
        "import matplotlib.pyplot as plt\n",
        "plt.hist(lengths)\n",
        "plt.show()"
      ],
      "metadata": {
        "colab": {
          "base_uri": "https://localhost:8080/",
          "height": 264
        },
        "id": "PHLhkDw8pouP",
        "outputId": "31fa0894-306f-4892-f678-881dfb79713d"
      },
      "execution_count": null,
      "outputs": [
        {
          "output_type": "display_data",
          "data": {
            "text/plain": [
              "<Figure size 432x288 with 1 Axes>"
            ],
            "image/png": "[encoded data removed]"
          },
          "metadata": {
            "needs_background": "light"
          }
        }
      ]
    },
    {
      "cell_type": "markdown",
      "source": [
        "- 짧은 단어 100개만 사용\n",
        " + 모든 길이를 100에 맞춘다.\n",
        "\n",
        "- 원래는 문장의 길이가 가장 긴 쪽에 맞춰주는데 그러면 짧은 문장도 일일이 다 맞춰줘야 하기 때문에 메모리가 터진다고 함."
      ],
      "metadata": {
        "id": "2S02MNuMwh_I"
      }
    },
    {
      "cell_type": "code",
      "source": [
        "from tensorflow.keras.preprocessing.sequence import pad_sequences\n",
        "train_seq = pad_sequences(train_input, maxlen=100)\n",
        "print(train_seq.shape)"
      ],
      "metadata": {
        "colab": {
          "base_uri": "https://localhost:8080/"
        },
        "id": "QwCcNAl7sAD1",
        "outputId": "386972f2-d2ab-456b-efc5-d1360a80e9ee"
      },
      "execution_count": null,
      "outputs": [
        {
          "output_type": "stream",
          "name": "stdout",
          "text": [
            "(20000, 100)\n"
          ]
        }
      ]
    },
    {
      "cell_type": "code",
      "source": [
        "print(train_seq[5]) # 0으로 출력되는 건 maxlen=100보다 길었다."
      ],
      "metadata": {
        "colab": {
          "base_uri": "https://localhost:8080/"
        },
        "id": "V1k-84LgsABM",
        "outputId": "94a81549-d516-430f-caa6-5522876728db"
      },
      "execution_count": null,
      "outputs": [
        {
          "output_type": "stream",
          "name": "stdout",
          "text": [
            "[  0   0   0   0   1   2 195  19  49   2   2 190   4   2 352   2 183  10\n",
            "  10  13  82  79   4   2  36  71 269   8   2  25  19  49   7   4   2   2\n",
            "   2   2   2  10  10  48  25  40   2  11   2   2  40   2   2   5   4   2\n",
            "   2  95  14 238  56 129   2  10  10  21   2  94 364 352   2   2  11 190\n",
            "  24 484   2   7  94 205 405  10  10  87   2  34  49   2   7   2   2   2\n",
            "   2   2 290   2  46  48  64  18   4   2]\n"
          ]
        }
      ]
    },
    {
      "cell_type": "code",
      "source": [
        "# 책 저자는 2 번의 출력과 3번의 출력 뒤가 같앗다는 걸 보여 주고 싶엇던 거 같다.\n",
        "print(train_input[0][-10:])\n",
        "print(train_seq[0]) "
      ],
      "metadata": {
        "colab": {
          "base_uri": "https://localhost:8080/"
        },
        "id": "GhdWGnQOr_-l",
        "outputId": "5ea4c0cf-d244-499a-f430-432065c08651"
      },
      "execution_count": null,
      "outputs": [
        {
          "output_type": "stream",
          "name": "stdout",
          "text": [
            "[6, 2, 46, 7, 14, 20, 10, 10, 470, 158]\n",
            "[ 10   4  20   9   2 364 352   5  45   6   2   2  33 269   8   2 142   2\n",
            "   5   2  17  73  17 204   5   2  19  55   2   2  92  66 104  14  20  93\n",
            "  76   2 151  33   4  58  12 188   2 151  12 215  69 224 142  73 237   6\n",
            "   2   7   2   2 188   2 103  14  31  10  10 451   7   2   5   2  80  91\n",
            "   2  30   2  34  14  20 151  50  26 131  49   2  84  46  50  37  80  79\n",
            "   6   2  46   7  14  20  10  10 470 158]\n"
          ]
        }
      ]
    },
    {
      "cell_type": "code",
      "source": [
        "val_seq = pad_sequences(val_input, maxlen=100)\n",
        "print(val_seq.shape)"
      ],
      "metadata": {
        "colab": {
          "base_uri": "https://localhost:8080/"
        },
        "id": "n1Fajc9FyQ0Y",
        "outputId": "25c2c75d-d71e-453b-b586-2b4251ebf5fd"
      },
      "execution_count": null,
      "outputs": [
        {
          "output_type": "stream",
          "name": "stdout",
          "text": [
            "(5000, 100)\n"
          ]
        }
      ]
    },
    {
      "cell_type": "markdown",
      "source": [
        "#### 순환 신경망 만들기\n",
        "- input_shape = (100, 500) 인 이유\n",
        " + 앞에 maxlen=100을 지정하였고, 데이터를 부를 때 500으로 지정했기 때문에 고유한 단어는 모두 500개! 즉, 훈련 데이터에 포함될 수 있는 정숫값의 범위는 0(패딩토큰)에서 499까지이다."
      ],
      "metadata": {
        "id": "1rNp--UlyhEZ"
      }
    },
    {
      "cell_type": "code",
      "source": [
        "from tensorflow import keras\n",
        "model = keras.Sequential()\n",
        "model.add(keras.layers.SimpleRNN(8, input_shape=(100, 500)))\n",
        "model.add(keras.layers.Dense(1, activation='sigmoid'))"
      ],
      "metadata": {
        "id": "xLmlknz1yg1-"
      },
      "execution_count": null,
      "outputs": []
    },
    {
      "cell_type": "markdown",
      "source": [
        "- 원-핫 인코딩 적용\n",
        " + to_categorical() 함수 사용 : 정수 배열을 입력하면 자동으로 원-핫 인코딩된 배열을 반환 해준다."
      ],
      "metadata": {
        "id": "wbtA3gSkztnX"
      }
    },
    {
      "cell_type": "code",
      "source": [
        "train_oh = keras.utils.to_categorical(train_seq)\n",
        "print(train_oh.shape)"
      ],
      "metadata": {
        "colab": {
          "base_uri": "https://localhost:8080/"
        },
        "id": "ICFT-ug6zwSF",
        "outputId": "10aaaa3b-8da8-4eb2-966d-5aeb16d2f123"
      },
      "execution_count": null,
      "outputs": [
        {
          "output_type": "stream",
          "name": "stdout",
          "text": [
            "(20000, 100, 500)\n"
          ]
        }
      ]
    },
    {
      "cell_type": "code",
      "source": [
        "print(train_oh[0][0][:12])"
      ],
      "metadata": {
        "colab": {
          "base_uri": "https://localhost:8080/"
        },
        "id": "xVOProNtyQyP",
        "outputId": "b3e5de4e-c02f-45a2-a213-9c5b676dda2e"
      },
      "execution_count": null,
      "outputs": [
        {
          "output_type": "stream",
          "name": "stdout",
          "text": [
            "[0. 0. 0. 0. 0. 0. 0. 0. 0. 0. 1. 0.]\n"
          ]
        }
      ]
    },
    {
      "cell_type": "code",
      "source": [
        "print(np.sum(train_oh[0][0]))"
      ],
      "metadata": {
        "colab": {
          "base_uri": "https://localhost:8080/"
        },
        "id": "g6jl1agzyQuX",
        "outputId": "56fb6aba-f826-4342-fc2e-70275ef80c5d"
      },
      "execution_count": null,
      "outputs": [
        {
          "output_type": "stream",
          "name": "stdout",
          "text": [
            "1.0\n"
          ]
        }
      ]
    },
    {
      "cell_type": "code",
      "source": [
        "val_oh = keras.utils.to_categorical(val_seq)\n",
        "model.summary()"
      ],
      "metadata": {
        "colab": {
          "base_uri": "https://localhost:8080/"
        },
        "id": "h6kr5gO5yQmW",
        "outputId": "14cc2087-cbb8-42ae-f6ba-af952dcb461d"
      },
      "execution_count": null,
      "outputs": [
        {
          "output_type": "stream",
          "name": "stdout",
          "text": [
            "Model: \"sequential\"\n",
            "_________________________________________________________________\n",
            " Layer (type)                Output Shape              Param #   \n",
            "=================================================================\n",
            " simple_rnn (SimpleRNN)      (None, 8)                 4072      \n",
            "                                                                 \n",
            " dense (Dense)               (None, 1)                 9         \n",
            "                                                                 \n",
            "=================================================================\n",
            "Total params: 4,081\n",
            "Trainable params: 4,081\n",
            "Non-trainable params: 0\n",
            "_________________________________________________________________\n"
          ]
        }
      ]
    },
    {
      "cell_type": "markdown",
      "source": [
        "### 순환 신경망 훈련"
      ],
      "metadata": {
        "id": "mJ5WEAPu2D8b"
      }
    },
    {
      "cell_type": "code",
      "source": [
        "rmsprop = keras.optimizers.RMSprop(learning_rate=1e-4)\n",
        "model.compile(optimizer=rmsprop, loss='binary_crossentropy', \n",
        "              metrics=['accuracy'])\n",
        "\n",
        "checkpoint_cb = keras.callbacks.ModelCheckpoint('best-simplernn-model.h5', \n",
        "                                                save_best_only=True)\n",
        "early_stopping_cb = keras.callbacks.EarlyStopping(patience=3,\n",
        "                                                  restore_best_weights=True)\n",
        "\n",
        "history = model.fit(train_oh, train_target, epochs=100, batch_size=64,\n",
        "                    validation_data=(val_oh, val_target),\n",
        "                    callbacks=[checkpoint_cb, early_stopping_cb])"
      ],
      "metadata": {
        "colab": {
          "base_uri": "https://localhost:8080/"
        },
        "id": "eIQ2PG1X0CN8",
        "outputId": "5bcd44fb-98f5-4317-c37d-894c454e2545"
      },
      "execution_count": null,
      "outputs": [
        {
          "output_type": "stream",
          "name": "stdout",
          "text": [
            "Epoch 1/100\n",
            "313/313 [==============================] - 43s 126ms/step - loss: 0.6940 - accuracy: 0.5207 - val_loss: 0.6893 - val_accuracy: 0.5416\n",
            "Epoch 2/100\n",
            "313/313 [==============================] - 35s 113ms/step - loss: 0.6745 - accuracy: 0.5825 - val_loss: 0.6680 - val_accuracy: 0.6054\n",
            "Epoch 3/100\n",
            "313/313 [==============================] - 35s 110ms/step - loss: 0.6514 - accuracy: 0.6342 - val_loss: 0.6458 - val_accuracy: 0.6440\n",
            "Epoch 4/100\n",
            "313/313 [==============================] - 35s 111ms/step - loss: 0.6291 - accuracy: 0.6689 - val_loss: 0.6244 - val_accuracy: 0.6734\n",
            "Epoch 5/100\n",
            "313/313 [==============================] - 35s 112ms/step - loss: 0.6041 - accuracy: 0.7019 - val_loss: 0.5995 - val_accuracy: 0.7046\n",
            "Epoch 6/100\n",
            "313/313 [==============================] - 35s 111ms/step - loss: 0.5819 - accuracy: 0.7200 - val_loss: 0.5788 - val_accuracy: 0.7258\n",
            "Epoch 7/100\n",
            "313/313 [==============================] - 38s 121ms/step - loss: 0.5635 - accuracy: 0.7372 - val_loss: 0.5628 - val_accuracy: 0.7332\n",
            "Epoch 8/100\n",
            "313/313 [==============================] - 35s 111ms/step - loss: 0.5475 - accuracy: 0.7463 - val_loss: 0.5468 - val_accuracy: 0.7472\n",
            "Epoch 9/100\n",
            "313/313 [==============================] - 34s 110ms/step - loss: 0.5336 - accuracy: 0.7545 - val_loss: 0.5356 - val_accuracy: 0.7548\n",
            "Epoch 10/100\n",
            "313/313 [==============================] - 34s 110ms/step - loss: 0.5215 - accuracy: 0.7618 - val_loss: 0.5228 - val_accuracy: 0.7630\n",
            "Epoch 11/100\n",
            "313/313 [==============================] - 36s 115ms/step - loss: 0.5110 - accuracy: 0.7664 - val_loss: 0.5154 - val_accuracy: 0.7594\n",
            "Epoch 12/100\n",
            "313/313 [==============================] - 37s 119ms/step - loss: 0.5014 - accuracy: 0.7725 - val_loss: 0.5074 - val_accuracy: 0.7638\n",
            "Epoch 13/100\n",
            "313/313 [==============================] - 38s 122ms/step - loss: 0.4931 - accuracy: 0.7761 - val_loss: 0.5024 - val_accuracy: 0.7702\n",
            "Epoch 14/100\n",
            "313/313 [==============================] - 63s 201ms/step - loss: 0.4869 - accuracy: 0.7800 - val_loss: 0.5012 - val_accuracy: 0.7648\n",
            "Epoch 15/100\n",
            "313/313 [==============================] - 39s 126ms/step - loss: 0.4806 - accuracy: 0.7824 - val_loss: 0.4885 - val_accuracy: 0.7760\n",
            "Epoch 16/100\n",
            "313/313 [==============================] - 47s 150ms/step - loss: 0.4755 - accuracy: 0.7860 - val_loss: 0.4900 - val_accuracy: 0.7716\n",
            "Epoch 17/100\n",
            "313/313 [==============================] - 59s 190ms/step - loss: 0.4696 - accuracy: 0.7895 - val_loss: 0.4831 - val_accuracy: 0.7764\n",
            "Epoch 18/100\n",
            "313/313 [==============================] - 48s 154ms/step - loss: 0.4667 - accuracy: 0.7905 - val_loss: 0.4791 - val_accuracy: 0.7814\n",
            "Epoch 19/100\n",
            "313/313 [==============================] - 36s 115ms/step - loss: 0.4616 - accuracy: 0.7943 - val_loss: 0.4758 - val_accuracy: 0.7818\n",
            "Epoch 20/100\n",
            "313/313 [==============================] - 35s 112ms/step - loss: 0.4591 - accuracy: 0.7923 - val_loss: 0.4753 - val_accuracy: 0.7806\n",
            "Epoch 21/100\n",
            "313/313 [==============================] - 37s 119ms/step - loss: 0.4564 - accuracy: 0.7959 - val_loss: 0.4775 - val_accuracy: 0.7768\n",
            "Epoch 22/100\n",
            "313/313 [==============================] - 36s 113ms/step - loss: 0.4536 - accuracy: 0.7972 - val_loss: 0.4802 - val_accuracy: 0.7760\n",
            "Epoch 23/100\n",
            "313/313 [==============================] - 36s 115ms/step - loss: 0.4531 - accuracy: 0.7980 - val_loss: 0.4796 - val_accuracy: 0.7766\n"
          ]
        }
      ]
    },
    {
      "cell_type": "markdown",
      "source": [
        "### 시각화\n",
        "- 그래프에서 훈련 손실과 검증 손실의 훈련과정"
      ],
      "metadata": {
        "id": "tpf74s9s2iiX"
      }
    },
    {
      "cell_type": "code",
      "source": [
        "plt.plot(history.history['loss'])\n",
        "plt.plot(history.history['val_loss'])\n",
        "plt.legend(['train', 'val'])\n",
        "plt.show()"
      ],
      "metadata": {
        "colab": {
          "base_uri": "https://localhost:8080/",
          "height": 486
        },
        "id": "gwB74rdv2BfY",
        "outputId": "0e1b2c5c-87d8-4fdb-e33c-bf71aa4e6944"
      },
      "execution_count": null,
      "outputs": [
        {
          "output_type": "stream",
          "name": "stderr",
          "text": [
            "/usr/local/lib/python3.7/dist-packages/ipykernel_launcher.py:3: UserWarning: Legend does not support 't' instances.\n",
            "A proxy artist may be used instead.\n",
            "See: http://matplotlib.org/users/legend_guide.html#creating-artists-specifically-for-adding-to-the-legend-aka-proxy-artists\n",
            "  This is separate from the ipykernel package so we can avoid doing imports until\n",
            "/usr/local/lib/python3.7/dist-packages/ipykernel_launcher.py:3: UserWarning: Legend does not support 'r' instances.\n",
            "A proxy artist may be used instead.\n",
            "See: http://matplotlib.org/users/legend_guide.html#creating-artists-specifically-for-adding-to-the-legend-aka-proxy-artists\n",
            "  This is separate from the ipykernel package so we can avoid doing imports until\n",
            "/usr/local/lib/python3.7/dist-packages/ipykernel_launcher.py:3: UserWarning: Legend does not support 'a' instances.\n",
            "A proxy artist may be used instead.\n",
            "See: http://matplotlib.org/users/legend_guide.html#creating-artists-specifically-for-adding-to-the-legend-aka-proxy-artists\n",
            "  This is separate from the ipykernel package so we can avoid doing imports until\n"
          ]
        },
        {
          "output_type": "display_data",
          "data": {
            "text/plain": [
              "<Figure size 432x288 with 1 Axes>"
            ],
            "image/png": "[encoded data removed]"
          },
          "metadata": {
            "needs_background": "light"
          }
        }
      ]
    },
    {
      "cell_type": "markdown",
      "source": [
        "- 원핫 인코딩의 단점은 입력 데이터가 엄청 커진다. 그러므로 토큰 1개를 500차원으로 늘렸기에 대략 500배가 커졋다.\n",
        " + 훈련 데이터가 커질수록 문제!"
      ],
      "metadata": {
        "id": "ag1nJoDN3vgu"
      }
    },
    {
      "cell_type": "code",
      "source": [
        "print(train_seq.nbytes, train_oh.nbytes)"
      ],
      "metadata": {
        "colab": {
          "base_uri": "https://localhost:8080/"
        },
        "id": "lHb5CtwW2wCH",
        "outputId": "677d1b28-d048-41ca-d400-094f378adf27"
      },
      "execution_count": null,
      "outputs": [
        {
          "output_type": "stream",
          "name": "stdout",
          "text": [
            "8000000 4000000000\n"
          ]
        }
      ]
    },
    {
      "cell_type": "markdown",
      "source": [
        "### 단어 임배딩 사용\n",
        "- keras.layers 패키지의 Embedding 클래스.\n",
        " + 처음에는 모든 벡터가 랜덤하게 초기화 되지만 훈련을 통해 데이터에서 좋은 단어 임베딩을 학습.\n",
        "- 텍스트를 처리할 때 즐겨 사용하는 방법\n",
        "- 각 단어를 고정된 크기의 실수 벡터로 바꿔줌.\n"
      ],
      "metadata": {
        "id": "i9SPNKzS3sv_"
      }
    },
    {
      "cell_type": "markdown",
      "source": [
        "- 두번째 순환 신경망(P. 515 설명 참조)"
      ],
      "metadata": {
        "id": "EbyMryRf6Hba"
      }
    },
    {
      "cell_type": "code",
      "source": [
        "model2 = keras.Sequential()\n",
        "model2.add(keras.layers.Embedding(500, 16, input_length=100))\n",
        "model2.add(keras.layers.SimpleRNN(8))\n",
        "model2.add(keras.layers.Dense(1, activation='sigmoid'))"
      ],
      "metadata": {
        "colab": {
          "base_uri": "https://localhost:8080/",
          "height": 230
        },
        "id": "CRLXGbsZ253_",
        "outputId": "7e157abb-7cd8-464b-853e-6306db2a281d"
      },
      "execution_count": null,
      "outputs": [
        {
          "output_type": "error",
          "ename": "NameError",
          "evalue": "ignored",
          "traceback": [
            "\u001b[0;31m---------------------------------------------------------------------------\u001b[0m",
            "\u001b[0;31mNameError\u001b[0m                                 Traceback (most recent call last)",
            "\u001b[0;32m<ipython-input-3-0bd9f01a4350>\u001b[0m in \u001b[0;36m<module>\u001b[0;34m()\u001b[0m\n\u001b[0;32m----> 1\u001b[0;31m \u001b[0mmodel2\u001b[0m \u001b[0;34m=\u001b[0m \u001b[0mkeras\u001b[0m\u001b[0;34m.\u001b[0m\u001b[0mSequential\u001b[0m\u001b[0;34m(\u001b[0m\u001b[0;34m)\u001b[0m\u001b[0;34m\u001b[0m\u001b[0;34m\u001b[0m\u001b[0m\n\u001b[0m\u001b[1;32m      2\u001b[0m \u001b[0mmodel2\u001b[0m\u001b[0;34m.\u001b[0m\u001b[0madd\u001b[0m\u001b[0;34m(\u001b[0m\u001b[0mkeras\u001b[0m\u001b[0;34m.\u001b[0m\u001b[0mlayers\u001b[0m\u001b[0;34m.\u001b[0m\u001b[0mEmbedding\u001b[0m\u001b[0;34m(\u001b[0m\u001b[0;36m500\u001b[0m\u001b[0;34m,\u001b[0m \u001b[0;36m16\u001b[0m\u001b[0;34m,\u001b[0m \u001b[0minput_length\u001b[0m\u001b[0;34m=\u001b[0m\u001b[0;36m100\u001b[0m\u001b[0;34m)\u001b[0m\u001b[0;34m)\u001b[0m\u001b[0;34m\u001b[0m\u001b[0;34m\u001b[0m\u001b[0m\n\u001b[1;32m      3\u001b[0m \u001b[0mmodel2\u001b[0m\u001b[0;34m.\u001b[0m\u001b[0madd\u001b[0m\u001b[0;34m(\u001b[0m\u001b[0mkeras\u001b[0m\u001b[0;34m.\u001b[0m\u001b[0mlayers\u001b[0m\u001b[0;34m.\u001b[0m\u001b[0mSimpleRNN\u001b[0m\u001b[0;34m(\u001b[0m\u001b[0;36m8\u001b[0m\u001b[0;34m)\u001b[0m\u001b[0;34m)\u001b[0m\u001b[0;34m\u001b[0m\u001b[0;34m\u001b[0m\u001b[0m\n\u001b[1;32m      4\u001b[0m \u001b[0mmodel2\u001b[0m\u001b[0;34m.\u001b[0m\u001b[0madd\u001b[0m\u001b[0;34m(\u001b[0m\u001b[0mkeras\u001b[0m\u001b[0;34m.\u001b[0m\u001b[0mlayers\u001b[0m\u001b[0;34m.\u001b[0m\u001b[0mDense\u001b[0m\u001b[0;34m(\u001b[0m\u001b[0;36m1\u001b[0m\u001b[0;34m,\u001b[0m \u001b[0mactivation\u001b[0m\u001b[0;34m=\u001b[0m\u001b[0;34m'sigmoid'\u001b[0m\u001b[0;34m)\u001b[0m\u001b[0;34m)\u001b[0m\u001b[0;34m\u001b[0m\u001b[0;34m\u001b[0m\u001b[0m\n",
            "\u001b[0;31mNameError\u001b[0m: name 'keras' is not defined"
          ]
        }
      ]
    },
    {
      "cell_type": "code",
      "source": [
        "model2.summary()"
      ],
      "metadata": {
        "colab": {
          "base_uri": "https://localhost:8080/",
          "height": 174
        },
        "id": "dn2vpxig251P",
        "outputId": "5db71705-75a8-4382-88d6-ba079c03e952"
      },
      "execution_count": null,
      "outputs": [
        {
          "output_type": "error",
          "ename": "NameError",
          "evalue": "ignored",
          "traceback": [
            "\u001b[0;31m---------------------------------------------------------------------------\u001b[0m",
            "\u001b[0;31mNameError\u001b[0m                                 Traceback (most recent call last)",
            "\u001b[0;32m<ipython-input-2-378732ef5219>\u001b[0m in \u001b[0;36m<module>\u001b[0;34m()\u001b[0m\n\u001b[0;32m----> 1\u001b[0;31m \u001b[0mmodel2\u001b[0m\u001b[0;34m.\u001b[0m\u001b[0msummary\u001b[0m\u001b[0;34m(\u001b[0m\u001b[0;34m)\u001b[0m\u001b[0;34m\u001b[0m\u001b[0;34m\u001b[0m\u001b[0m\n\u001b[0m",
            "\u001b[0;31mNameError\u001b[0m: name 'model2' is not defined"
          ]
        }
      ]
    },
    {
      "cell_type": "code",
      "source": [
        "rmsprop = keras.optimizers.RMSprop(learning_rate=1e-4)\n",
        "model.compile(optimizer=rmsprop, loss='binary_crossentropy', \n",
        "              metrics=['accuracy'])\n",
        "\n",
        "checkpoint_cb = keras.callbacks.ModelCheckpoint('best-simplernn-model.h5', \n",
        "                                                save_best_only=True)\n",
        "early_stopping_cb = keras.callbacks.EarlyStopping(patience=3,\n",
        "                                                  restore_best_weights=True)\n",
        "\n",
        "history = model.fit(train_oh, train_target, epochs=100, batch_size=64,\n",
        "                    validation_data=(val_oh, val_target),\n",
        "                    callbacks=[checkpoint_cb, early_stopping_cb])"
      ],
      "metadata": {
        "colab": {
          "base_uri": "https://localhost:8080/",
          "height": 247
        },
        "id": "T8JyIIJB6Umf",
        "outputId": "7e48a46e-738a-4b6a-e326-1958c3297852"
      },
      "execution_count": null,
      "outputs": [
        {
          "output_type": "error",
          "ename": "NameError",
          "evalue": "ignored",
          "traceback": [
            "\u001b[0;31m---------------------------------------------------------------------------\u001b[0m",
            "\u001b[0;31mNameError\u001b[0m                                 Traceback (most recent call last)",
            "\u001b[0;32m<ipython-input-1-2e029906d923>\u001b[0m in \u001b[0;36m<module>\u001b[0;34m()\u001b[0m\n\u001b[0;32m----> 1\u001b[0;31m \u001b[0mrmsprop\u001b[0m \u001b[0;34m=\u001b[0m \u001b[0mkeras\u001b[0m\u001b[0;34m.\u001b[0m\u001b[0moptimizers\u001b[0m\u001b[0;34m.\u001b[0m\u001b[0mRMSprop\u001b[0m\u001b[0;34m(\u001b[0m\u001b[0mlearning_rate\u001b[0m\u001b[0;34m=\u001b[0m\u001b[0;36m1e-4\u001b[0m\u001b[0;34m)\u001b[0m\u001b[0;34m\u001b[0m\u001b[0;34m\u001b[0m\u001b[0m\n\u001b[0m\u001b[1;32m      2\u001b[0m model.compile(optimizer=rmsprop, loss='binary_crossentropy', \n\u001b[1;32m      3\u001b[0m               metrics=['accuracy'])\n\u001b[1;32m      4\u001b[0m \u001b[0;34m\u001b[0m\u001b[0m\n\u001b[1;32m      5\u001b[0m checkpoint_cb = keras.callbacks.ModelCheckpoint('best-simplernn-model.h5', \n",
            "\u001b[0;31mNameError\u001b[0m: name 'keras' is not defined"
          ]
        }
      ]
    },
    {
      "cell_type": "code",
      "source": [
        "plt.plot(history.history['loss'])\n",
        "plt.plot(history.history['val_loss'])\n",
        "plt.legend(['train', 'val'])\n",
        "plt.show()"
      ],
      "metadata": {
        "id": "D_1aixk96UkG"
      },
      "execution_count": null,
      "outputs": []
    }
  ]
}