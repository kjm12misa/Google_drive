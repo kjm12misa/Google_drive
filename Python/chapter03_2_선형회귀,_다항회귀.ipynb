{
  "nbformat": 4,
  "nbformat_minor": 0,
  "metadata": {
    "colab": {
      "name": "chapter03_2_선형회귀, 다항회귀",
      "provenance": [],
      "collapsed_sections": [],
      "authorship_tag": "ABX9TyMertx4iIHIZ2Vw4g8ykPZf",
      "include_colab_link": true
    },
    "kernelspec": {
      "name": "python3",
      "display_name": "Python 3"
    },
    "language_info": {
      "name": "python"
    }
  },
  "cells": [
    {
      "cell_type": "markdown",
      "metadata": {
        "id": "view-in-github",
        "colab_type": "text"
      },
      "source": [
        "<a href=\"https://colab.research.google.com/github/kjm12misa/Google_drive/blob/main/Python/chapter03_2_%EC%84%A0%ED%98%95%ED%9A%8C%EA%B7%80%2C_%EB%8B%A4%ED%95%AD%ED%9A%8C%EA%B7%80.ipynb\" target=\"_parent\"><img src=\"https://colab.research.google.com/assets/colab-badge.svg\" alt=\"Open In Colab\"/></a>"
      ]
    },
    {
      "cell_type": "code",
      "execution_count": null,
      "metadata": {
        "id": "hlydAC09NNQn"
      },
      "outputs": [],
      "source": [
        "import numpy as np\n",
        "\n",
        "perch_length = np.array(\n",
        "    [8.4, 13.7, 15.0, 16.2, 17.4, 18.0, 18.7, 19.0, 19.6, 20.0, \n",
        "     21.0, 21.0, 21.0, 21.3, 22.0, 22.0, 22.0, 22.0, 22.0, 22.5, \n",
        "     22.5, 22.7, 23.0, 23.5, 24.0, 24.0, 24.6, 25.0, 25.6, 26.5, \n",
        "     27.3, 27.5, 27.5, 27.5, 28.0, 28.7, 30.0, 32.8, 34.5, 35.0, \n",
        "     36.5, 36.0, 37.0, 37.0, 39.0, 39.0, 39.0, 40.0, 40.0, 40.0, \n",
        "     40.0, 42.0, 43.0, 43.0, 43.5, 44.0]\n",
        "     )\n",
        "perch_weight = np.array(\n",
        "    [5.9, 32.0, 40.0, 51.5, 70.0, 100.0, 78.0, 80.0, 85.0, 85.0, \n",
        "     110.0, 115.0, 125.0, 130.0, 120.0, 120.0, 130.0, 135.0, 110.0, \n",
        "     130.0, 150.0, 145.0, 150.0, 170.0, 225.0, 145.0, 188.0, 180.0, \n",
        "     197.0, 218.0, 300.0, 260.0, 265.0, 250.0, 250.0, 300.0, 320.0, \n",
        "     514.0, 556.0, 840.0, 685.0, 700.0, 700.0, 690.0, 900.0, 650.0, \n",
        "     820.0, 850.0, 900.0, 1015.0, 820.0, 1100.0, 1000.0, 1100.0, \n",
        "     1000.0, 1000.0]\n",
        "     )"
      ]
    },
    {
      "cell_type": "code",
      "source": [
        "from sklearn.model_selection import train_test_split\n",
        "train_input, test_input, train_target, test_target = train_test_split(\n",
        "    perch_length, perch_weight, random_state=42\n",
        ")"
      ],
      "metadata": {
        "id": "4_NMXrEH8jyA"
      },
      "execution_count": null,
      "outputs": []
    },
    {
      "cell_type": "code",
      "source": [
        "train_input = train_input.reshape(-1, 1)\n",
        "test_input = test_input.reshape(-1, 1)\n",
        "print(train_input.shape, test_input.shape)"
      ],
      "metadata": {
        "colab": {
          "base_uri": "https://localhost:8080/"
        },
        "id": "Pefl8u9T8ju_",
        "outputId": "b9fbbc4a-8898-4396-ecb9-d515102294d6"
      },
      "execution_count": null,
      "outputs": [
        {
          "output_type": "stream",
          "name": "stdout",
          "text": [
            "(42, 1) (14, 1)\n"
          ]
        }
      ]
    },
    {
      "cell_type": "code",
      "source": [
        "from sklearn.neighbors import KNeighborsRegressor\n",
        "\n",
        "knr = KNeighborsRegressor(n_neighbors=3) # 클래스 불러오기\n",
        "knr.fit(train_input, train_target) # 모형학습(train_)"
      ],
      "metadata": {
        "colab": {
          "base_uri": "https://localhost:8080/"
        },
        "id": "_39tOm6_8jrw",
        "outputId": "c1b8eb58-265a-4502-cfb7-d419bfe9d9fa"
      },
      "execution_count": null,
      "outputs": [
        {
          "output_type": "execute_result",
          "data": {
            "text/plain": [
              "KNeighborsRegressor(n_neighbors=3)"
            ]
          },
          "metadata": {},
          "execution_count": 6
        }
      ]
    },
    {
      "cell_type": "code",
      "source": [
        "print(knr.predict([[50]]))"
      ],
      "metadata": {
        "colab": {
          "base_uri": "https://localhost:8080/"
        },
        "id": "lTFR0x3oOS93",
        "outputId": "3b8be0e1-2fc8-42f0-f6dd-7463e640186b"
      },
      "execution_count": null,
      "outputs": [
        {
          "output_type": "stream",
          "name": "stdout",
          "text": [
            "[1033.33333333]\n"
          ]
        }
      ]
    },
    {
      "cell_type": "code",
      "source": [
        "import matplotlib.pyplot as plt\n",
        "\n",
        "distances, indexes = knr.kneighbors([[50]])\n",
        "fig, ax = plt.subplots()\n",
        "ax.scatter(train_input, train_target)\n",
        "ax.scatter(train_input[indexes], train_target[indexes], marker='D')\n",
        "ax.scatter(50, 1033, marker='*')\n",
        "ax.set_xlabel('length')\n",
        "ax.set_ylabel('weight')\n",
        "plt.show()"
      ],
      "metadata": {
        "colab": {
          "base_uri": "https://localhost:8080/",
          "height": 279
        },
        "id": "LArV26UqOrco",
        "outputId": "774ca542-a86f-406f-ec3a-df78cca900b5"
      },
      "execution_count": null,
      "outputs": [
        {
          "output_type": "display_data",
          "data": {
            "text/plain": [
              "<Figure size 432x288 with 1 Axes>"
            ],
            "image/png": "[encoded data removed]"
          },
          "metadata": {
            "needs_background": "light"
          }
        }
      ]
    },
    {
      "cell_type": "markdown",
      "source": [
        "길이 30 이하로는 농어의 무게는 엇비슷해 보이지만 길이 35정도 부터 길이 대비 무게의 차이가 급격히 늘어낫다. 농어는 길이와 무게가 높을 수록 포식자가 없는건가? 또한, 높을 수록 개체가 좀 없는 걸로 보아서는 사람들이 많이 잡아가는 것 같다. 농어 낚시에서 잡을 수 있는 길이 기준은?"
      ],
      "metadata": {
        "id": "S3nqTx9fPy7h"
      }
    },
    {
      "cell_type": "code",
      "source": [
        "#print(np.mean(train_input[indexes])) # 43.333333333333336\n",
        "print(np.mean(train_target[indexes])) # 1033.3333333333333"
      ],
      "metadata": {
        "colab": {
          "base_uri": "https://localhost:8080/"
        },
        "id": "WyDTvjd0SCQO",
        "outputId": "c875be3d-c63f-4529-df94-51fedc3c91dd"
      },
      "execution_count": null,
      "outputs": [
        {
          "output_type": "stream",
          "name": "stdout",
          "text": [
            "1033.3333333333333\n"
          ]
        }
      ]
    },
    {
      "cell_type": "code",
      "source": [
        "# 농어의 이웃 구하기\n",
        "distances, indexes = knr.kneighbors([[100]])\n",
        "\n",
        "fig, ax = plt.subplots()\n",
        "ax.scatter(train_input, train_target) # (x축 data, y축 data)\n",
        "ax.scatter(train_input[indexes], train_target[indexes], marker='D')\n",
        "ax.scatter(50, 1033, marker='*')\n",
        "ax.set_xlabel('length')\n",
        "ax.set_ylabel('weight')\n",
        "plt.show()"
      ],
      "metadata": {
        "colab": {
          "base_uri": "https://localhost:8080/",
          "height": 279
        },
        "id": "ujc5PV9DSC_X",
        "outputId": "d374912c-db27-4ce8-dacc-c8a27fd8bcc5"
      },
      "execution_count": null,
      "outputs": [
        {
          "output_type": "display_data",
          "data": {
            "text/plain": [
              "<Figure size 432x288 with 1 Axes>"
            ],
            "image/png": "[encoded data removed]"
          },
          "metadata": {
            "needs_background": "light"
          }
        }
      ]
    },
    {
      "cell_type": "code",
      "source": [
        "print(knr.predict([[100]]))"
      ],
      "metadata": {
        "colab": {
          "base_uri": "https://localhost:8080/"
        },
        "id": "7ncEhmnaUbhx",
        "outputId": "a66a60d1-6912-42aa-cc33-3796cc35182a"
      },
      "execution_count": null,
      "outputs": [
        {
          "output_type": "stream",
          "name": "stdout",
          "text": [
            "[1033.33333333]\n"
          ]
        }
      ]
    },
    {
      "cell_type": "markdown",
      "source": [
        "- 머신러닝 모델은 주기적으로 훈련해야 한다.\n",
        "  + MLOps (Machine Learning & Operations)\n",
        "  + 요즘 각광받는 데이터 관련 직업 필수 스킬\n",
        "  + 입사와 하께 공부 시작(데이터 분석가, 머신러닝 엔지니어, 데이터 싸이언티스트)\n",
        "\n",
        "#### 선형회귀\n",
        "  - 통계\n",
        "    + 5가지 가정들, 잔차의 정규성, 등분산성, 다중공선성, etc...\n",
        "    + 종속변수 ~ 독립변수간의 '인과 관계'를 찾는 과정.\n",
        "  - 머신러닝\n",
        "    + R2 점수, MAE, MSE 등,, 평가지표 확인 더욱 중요.!!"
      ],
      "metadata": {
        "id": "ZI_u3_zhU0LU"
      }
    },
    {
      "cell_type": "code",
      "source": [
        "from sklearn.linear_model import LinearRegression\n",
        "\n",
        "lr = LinearRegression()\n",
        "# 선형 회귀 모델 훈련\n",
        "lr.fit(train_input, train_target)\n",
        "# 50으로 농어 예측\n",
        "print(lr.predict([[50]]))"
      ],
      "metadata": {
        "colab": {
          "base_uri": "https://localhost:8080/"
        },
        "id": "XTlWpv8dSC8d",
        "outputId": "6a63bb53-1274-493c-c5f8-59302511486c"
      },
      "execution_count": null,
      "outputs": [
        {
          "output_type": "stream",
          "name": "stdout",
          "text": [
            "[1241.83860323]\n"
          ]
        }
      ]
    },
    {
      "cell_type": "code",
      "source": [
        "fig, ax = plt.subplots()\n",
        "ax.scatter(train_input, train_target) # (x축 data, y축 data)\n",
        "ax.scatter(train_input[indexes], train_target[indexes], marker='D')\n",
        "ax.scatter(50, 1241, marker='*')\n",
        "ax.set_xlabel('length')\n",
        "ax.set_ylabel('weight')"
      ],
      "metadata": {
        "colab": {
          "base_uri": "https://localhost:8080/",
          "height": 297
        },
        "id": "Aya_aZjOWNe4",
        "outputId": "a4f95655-ec04-4446-abd6-6f3be727fde0"
      },
      "execution_count": null,
      "outputs": [
        {
          "output_type": "execute_result",
          "data": {
            "text/plain": [
              "Text(0, 0.5, 'weight')"
            ]
          },
          "metadata": {},
          "execution_count": 21
        },
        {
          "output_type": "display_data",
          "data": {
            "text/plain": [
              "<Figure size 432x288 with 1 Axes>"
            ],
            "image/png": "[encoded data removed]"
          },
          "metadata": {
            "needs_background": "light"
          }
        }
      ]
    },
    {
      "cell_type": "markdown",
      "source": [
        "#### 회귀식 찾기\n",
        "- **기울기** : 계수 = 가중치(딥러닝)"
      ],
      "metadata": {
        "id": "PyyaAYilYrhS"
      }
    },
    {
      "cell_type": "code",
      "source": [
        "# 기울기(coef_) + 상수(intercept_)\n",
        "print(lr.coef_, lr.intercept_)"
      ],
      "metadata": {
        "colab": {
          "base_uri": "https://localhost:8080/"
        },
        "id": "ZbP9s3pTWNaH",
        "outputId": "a22a4553-4471-4b30-c8c5-2035ab39da36"
      },
      "execution_count": null,
      "outputs": [
        {
          "output_type": "stream",
          "name": "stdout",
          "text": [
            "[39.01714496] -709.0186449535477\n"
          ]
        }
      ]
    },
    {
      "cell_type": "code",
      "source": [
        "# 15~50 까지의 기울기와 절편?\n",
        "fig, ax = plt.subplots()\n",
        "ax.scatter(train_input, train_target)\n",
        "ax.plot([15, 50], [15 * lr.coef_ + lr.intercept_,\n",
        "                   50 * lr.coef_ + lr.intercept_])\n",
        "ax.scatter(50, 1241.8, marker='*')\n",
        "plt.show()"
      ],
      "metadata": {
        "colab": {
          "base_uri": "https://localhost:8080/",
          "height": 265
        },
        "id": "PopjeLTgZcTS",
        "outputId": "c650e879-ba6e-41a3-cd9c-34c8ab43556f"
      },
      "execution_count": null,
      "outputs": [
        {
          "output_type": "display_data",
          "data": {
            "text/plain": [
              "<Figure size 432x288 with 1 Axes>"
            ],
            "image/png": "[encoded data removed]"
          },
          "metadata": {
            "needs_background": "light"
          }
        }
      ]
    },
    {
      "cell_type": "markdown",
      "source": [
        "#### 다항회귀\n",
        "- 1차 방정식 -> 2차 방정식\n",
        "- 넘파이 브로드캐스팅\n",
        "  + 배열의 크기가 동일하면 상관 없음.\n",
        "  + 배열의 크기가 다르고 연산을 할 때 브로드캐스팅 원리가 적용\n",
        "  + 튜토리얼 등 찾아서 주기적으로 공부(데이터 분석가, 머신러닝 ~)"
      ],
      "metadata": {
        "id": "UHfOqTCzcacR"
      }
    },
    {
      "cell_type": "code",
      "source": [
        "train_poly = np.column_stack((train_input ** 2, train_input))\n",
        "test_poly = np.column_stack((test_input ** 2, test_input))\n",
        "\n",
        "print(train_poly.shape, test_poly.shape)"
      ],
      "metadata": {
        "colab": {
          "base_uri": "https://localhost:8080/"
        },
        "id": "lg70C8B4ZcQj",
        "outputId": "bbb7a86d-0314-4bc6-da68-19bf5a960c25"
      },
      "execution_count": null,
      "outputs": [
        {
          "output_type": "stream",
          "name": "stdout",
          "text": [
            "(42, 2) (14, 2)\n"
          ]
        }
      ]
    },
    {
      "cell_type": "code",
      "source": [
        "lr = LinearRegression()\n",
        "lr.fit(train_poly, train_target)\n",
        "\n",
        "print(lr.predict([[50**2, 50]]))\n",
        "print(lr.coef_, lr.intercept_)"
      ],
      "metadata": {
        "colab": {
          "base_uri": "https://localhost:8080/"
        },
        "id": "BAneZbWOZcN2",
        "outputId": "32a53561-2d3e-4dcd-b2ac-60ca38e2602f"
      },
      "execution_count": null,
      "outputs": [
        {
          "output_type": "stream",
          "name": "stdout",
          "text": [
            "[1573.98423528]\n",
            "[  1.01433211 -21.55792498] 116.0502107827827\n"
          ]
        }
      ]
    },
    {
      "cell_type": "code",
      "source": [
        "point = np.arange(15, 50)\n",
        "\n",
        "fig, ax = plt.subplots()\n",
        "ax.scatter(train_input, train_target)\n",
        "ax.plot(point, 1.01*point**2 - 21.6*point + 116.05)\n",
        "ax.scatter(50, 1574, marker='*')\n",
        "plt.show()"
      ],
      "metadata": {
        "colab": {
          "base_uri": "https://localhost:8080/",
          "height": 265
        },
        "id": "vyCpcFzxe6i7",
        "outputId": "4f761e45-ea54-45e2-9499-5ed2e7ead76f"
      },
      "execution_count": null,
      "outputs": [
        {
          "output_type": "display_data",
          "data": {
            "text/plain": [
              "<Figure size 432x288 with 1 Axes>"
            ],
            "image/png": "[encoded data removed]"
          },
          "metadata": {
            "needs_background": "light"
          }
        }
      ]
    },
    {
      "cell_type": "code",
      "source": [
        "print(lr.score(train_poly, train_target))\n",
        "print(lr.score(test_poly, test_target))"
      ],
      "metadata": {
        "colab": {
          "base_uri": "https://localhost:8080/"
        },
        "id": "schg7uo7f1Ng",
        "outputId": "fa5bc4a1-eeb5-455d-d09e-635a538dc259"
      },
      "execution_count": null,
      "outputs": [
        {
          "output_type": "stream",
          "name": "stdout",
          "text": [
            "0.9706807451768623\n",
            "0.9775935108325122\n"
          ]
        }
      ]
    },
    {
      "cell_type": "markdown",
      "source": [
        "여전히 테스트 점수가 좀 더 높게 나오기엥 과소적합이 아직 남아 있는 것 같다.\n",
        "조금 더 복잡한 모델이 필요 할 꺼라는 결말이 책에 적혀 있음.\n",
        "\n",
        "KNN의 문제점\n",
        "- 농어의 길이가 길어져도 무게는 동일함(현실성 제로)\n",
        "  + 단순 선형회귀(1차 방정식) : 치어가 1cm인데 무게가 음수로 나옴(현실성 제로)\n",
        "  + 다항회귀(2차 방정식) : 문제점을 완화."
      ],
      "metadata": {
        "id": "_YHjWSdqeIXl"
      }
    }
  ]
}