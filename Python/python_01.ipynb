{
  "nbformat": 4,
  "nbformat_minor": 0,
  "metadata": {
    "colab": {
      "name": "python_01",
      "provenance": [],
      "authorship_tag": "ABX9TyNNNMOobGDUpy8BdcICSVLY",
      "include_colab_link": true
    },
    "kernelspec": {
      "name": "python3",
      "display_name": "Python 3"
    },
    "language_info": {
      "name": "python"
    }
  },
  "cells": [
    {
      "cell_type": "markdown",
      "metadata": {
        "id": "view-in-github",
        "colab_type": "text"
      },
      "source": [
        "<a href=\"https://colab.research.google.com/github/kjm12misa/Google_drive/blob/main/Python/python_01.ipynb\" target=\"_parent\"><img src=\"https://colab.research.google.com/assets/colab-badge.svg\" alt=\"Open In Colab\"/></a>"
      ]
    },
    {
      "cell_type": "code",
      "execution_count": null,
      "metadata": {
        "colab": {
          "base_uri": "https://localhost:8080/"
        },
        "id": "R0M7XfgF4-sy",
        "outputId": "c99a39f8-3746-4513-ede3-7387d7ec29d6"
      },
      "outputs": [
        {
          "output_type": "stream",
          "name": "stdout",
          "text": [
            "hello, world\n"
          ]
        }
      ],
      "source": [
        "print(\"hello, world\")"
      ]
    },
    {
      "cell_type": "code",
      "source": [
        ""
      ],
      "metadata": {
        "id": "5xpN6Kg95NzO"
      },
      "execution_count": null,
      "outputs": []
    },
    {
      "cell_type": "code",
      "source": [
        "# int - 정수\n",
        "num_int = 1\n",
        "num_int2 = 3\n",
        "print(num_int)\n",
        "print(num_int2)\n",
        "print(type(num_int))"
      ],
      "metadata": {
        "colab": {
          "base_uri": "https://localhost:8080/"
        },
        "id": "qVgwTmrO5Pxs",
        "outputId": "cf81ac20-c68d-43ed-db73-9561a4847cf1"
      },
      "execution_count": null,
      "outputs": [
        {
          "output_type": "stream",
          "name": "stdout",
          "text": [
            "1\n",
            "3\n",
            "<class 'int'>\n"
          ]
        }
      ]
    },
    {
      "cell_type": "code",
      "source": [
        "# float - 실수\n",
        "num_float = 0.2\n",
        "print(num_float)\n",
        "print(type(num_float))"
      ],
      "metadata": {
        "colab": {
          "base_uri": "https://localhost:8080/"
        },
        "id": "SZ0CSYiI5QAA",
        "outputId": "c6afea39-6d0d-4c6d-e1f6-e812484ed46f"
      },
      "execution_count": null,
      "outputs": [
        {
          "output_type": "stream",
          "name": "stdout",
          "text": [
            "0.2\n",
            "<class 'float'>\n"
          ]
        }
      ]
    },
    {
      "cell_type": "code",
      "source": [
        "# bool -> True, False 를 나타내는 값\n",
        "bool_true = True\n",
        "print(bool_true)\n",
        "print(type(bool_true))"
      ],
      "metadata": {
        "colab": {
          "base_uri": "https://localhost:8080/"
        },
        "id": "-TISr7Qq5QKz",
        "outputId": "232d2807-1b6b-4b6c-f6c9-f4f55780da2b"
      },
      "execution_count": null,
      "outputs": [
        {
          "output_type": "stream",
          "name": "stdout",
          "text": [
            "True\n",
            "<class 'bool'>\n"
          ]
        }
      ]
    },
    {
      "cell_type": "code",
      "source": [
        "# None -> Null을 나타내는 자료형으로 None라는 한가지 값만 가짐\n",
        "none_x = None\n",
        "print(none_x)\n",
        "print(type(none_x))"
      ],
      "metadata": {
        "colab": {
          "base_uri": "https://localhost:8080/"
        },
        "id": "TbNmfMgL5QRl",
        "outputId": "0e55762a-d9fc-4415-a5d3-f586cfe8eb89"
      },
      "execution_count": null,
      "outputs": [
        {
          "output_type": "stream",
          "name": "stdout",
          "text": [
            "None\n",
            "<class 'NoneType'>\n"
          ]
        }
      ]
    },
    {
      "cell_type": "code",
      "source": [
        "# 논리형 연산자 -> Bool 형은 True, False 값으로 정의. AND/OR\n",
        "a = 10 > 4\n",
        "print(a) # True\n",
        "b = 3 > 11 # False\n",
        "print(b)\n",
        "\n",
        "print(a and a) # and 는 두 개의 값이 True 여야지 True. 한가지라도 False 이면 False 값을 반환.\n",
        "print(a and b)\n",
        "print(a or a) # or 은 두 개의 값 중 한 개라도 True 면 True 값을 반환.\n",
        "print(a or b)\n",
        "print(b and b)"
      ],
      "metadata": {
        "colab": {
          "base_uri": "https://localhost:8080/"
        },
        "id": "ZWm_jSM95Nvg",
        "outputId": "45d45ad2-a120-4bf2-e23a-de8974e33386"
      },
      "execution_count": null,
      "outputs": [
        {
          "output_type": "stream",
          "name": "stdout",
          "text": [
            "True\n",
            "False\n",
            "True\n",
            "False\n",
            "True\n",
            "True\n",
            "False\n"
          ]
        }
      ]
    },
    {
      "cell_type": "code",
      "source": [
        "var = input(\"papa come here!\")"
      ],
      "metadata": {
        "colab": {
          "base_uri": "https://localhost:8080/"
        },
        "id": "tOMFI5NO5NtN",
        "outputId": "7b599119-fba2-450b-968e-9eeccdc45ac2"
      },
      "execution_count": null,
      "outputs": [
        {
          "name": "stdout",
          "output_type": "stream",
          "text": [
            "papa come here! yes. coming~\n"
          ]
        }
      ]
    },
    {
      "cell_type": "code",
      "source": [
        "var = int(input(\"papa help me\")) # int(input()) 은 정수를 써야 오류가 안남."
      ],
      "metadata": {
        "colab": {
          "base_uri": "https://localhost:8080/"
        },
        "id": "P5NsM53I5NrB",
        "outputId": "866c108a-5ba4-4451-f5d5-bc3ab14f3d76"
      },
      "execution_count": null,
      "outputs": [
        {
          "name": "stdout",
          "output_type": "stream",
          "text": [
            "papa help me119\n"
          ]
        }
      ]
    },
    {
      "cell_type": "code",
      "source": [
        "var = float(input(\"papa help me\")) # float(input()) 은 실수를 써야 오류가 안남."
      ],
      "metadata": {
        "colab": {
          "base_uri": "https://localhost:8080/"
        },
        "id": "162LdqNu5Nov",
        "outputId": "b0de04f8-c20a-4d81-f7e7-cd04f2dd80d7"
      },
      "execution_count": null,
      "outputs": [
        {
          "name": "stdout",
          "output_type": "stream",
          "text": [
            "papa help me3.2\n"
          ]
        }
      ]
    },
    {
      "cell_type": "code",
      "source": [
        "mom = int(input(\"mom's age: \"))\n",
        "dad = int(input(\"dad's age: \"))\n",
        "Joon = float(input(\"Joon's height: \"))\n",
        "Sara = float(input(\"Sara's height: \"))\n",
        "\n",
        "taller = Joon > Sara\n",
        "younger = mom > dad\n",
        "print(taller)\n",
        "print(younger)"
      ],
      "metadata": {
        "colab": {
          "base_uri": "https://localhost:8080/"
        },
        "id": "lV9zJ0Cg5Nl3",
        "outputId": "a7b4648a-6fd5-4a08-f7c9-112647aaea11"
      },
      "execution_count": null,
      "outputs": [
        {
          "output_type": "stream",
          "name": "stdout",
          "text": [
            "mom's age: 38\n",
            "dad's age: 40\n",
            "joon's height: 185.7\n",
            "daughter's height: 167.2\n",
            "True\n",
            "False\n"
          ]
        }
      ]
    },
    {
      "cell_type": "code",
      "source": [
        "Sara = \"She is smaller than me!\"\n",
        "print(Sara[12])\n",
        "print(Sara[-1])"
      ],
      "metadata": {
        "colab": {
          "base_uri": "https://localhost:8080/"
        },
        "id": "x5rpu5Iw-I8c",
        "outputId": "08d05a49-50a0-402d-fd7f-596eb3577cd2"
      },
      "execution_count": null,
      "outputs": [
        {
          "output_type": "stream",
          "name": "stdout",
          "text": [
            "e\n",
            "!\n"
          ]
        }
      ]
    },
    {
      "cell_type": "code",
      "source": [
        "# 슬라이싱 -> 범위를 지정하고 데이터를 가져온다.\n",
        "\n",
        "Sara = \"She is smaller than me!\"\n",
        "\n",
        "print(Sara[:]) # all print\n",
        "print(Sara[:2])\n",
        "print(Sara[4:6])\n",
        "print(Sara[7:14])\n",
        "print(Sara[0:11:2]) # 질문사항!!"
      ],
      "metadata": {
        "colab": {
          "base_uri": "https://localhost:8080/"
        },
        "id": "0j9yyid5-I5Q",
        "outputId": "09d5b2b2-daef-4db2-c6b3-121cb34db8ce"
      },
      "execution_count": null,
      "outputs": [
        {
          "output_type": "stream",
          "name": "stdout",
          "text": [
            "She is smaller than me!\n",
            "Sh\n",
            "is\n",
            "smaller\n",
            "Sei ml\n"
          ]
        }
      ]
    },
    {
      "cell_type": "code",
      "source": [
        "# 리스트 슬라이싱\n",
        "\n",
        "a = [1, 2, 3, 4, 5, 6, 7, 8, 9, 10]\n",
        "#print(a)\n",
        "print(a[0])\n",
        "print(a[6:])\n",
        "print(a[:5])\n",
        "print(a[3:5])\n",
        "print(a[0:10:3])"
      ],
      "metadata": {
        "colab": {
          "base_uri": "https://localhost:8080/"
        },
        "id": "pCqZCZMo-I11",
        "outputId": "b525778a-b8c8-41e5-a33d-4fd52f40e598"
      },
      "execution_count": null,
      "outputs": [
        {
          "output_type": "stream",
          "name": "stdout",
          "text": [
            "1\n",
            "[7, 8, 9, 10]\n",
            "[1, 2, 3, 4, 5]\n",
            "[4, 5]\n",
            "[1, 4, 7, 10]\n"
          ]
        }
      ]
    },
    {
      "cell_type": "code",
      "source": [
        "a = [['abcde', 'fghijkl', 'mnopqrstu'], 1]\n",
        "#print(a[0])\n",
        "#print(a[0][1])\n",
        "#print(a[0][0][-1])\n",
        "print(a[0][0][0:])\n",
        "print(a[0][1][0:])"
      ],
      "metadata": {
        "colab": {
          "base_uri": "https://localhost:8080/"
        },
        "id": "xUgniapN-Ize",
        "outputId": "ed179e31-32a8-4d09-e324-a3ba671b93e3"
      },
      "execution_count": null,
      "outputs": [
        {
          "output_type": "stream",
          "name": "stdout",
          "text": [
            "abcde\n",
            "fghijkl\n"
          ]
        }
      ]
    },
    {
      "cell_type": "code",
      "source": [
        "a = ['john', 'even']\n",
        "b = ['never', 'the']\n",
        "\n",
        "c = b + a\n",
        "print(c)"
      ],
      "metadata": {
        "colab": {
          "base_uri": "https://localhost:8080/"
        },
        "id": "u4cj7vCB-Iww",
        "outputId": "0fcec5ed-5949-4b9a-ebd5-cc8d481cd393"
      },
      "execution_count": null,
      "outputs": [
        {
          "output_type": "stream",
          "name": "stdout",
          "text": [
            "['never', 'the', 'john', 'even']\n"
          ]
        }
      ]
    },
    {
      "cell_type": "code",
      "source": [
        "c = a * 3\n",
        "d = b * 0\n",
        "print(\"a * 3 = \", c)\n",
        "print(\"b * 0 = \", d)"
      ],
      "metadata": {
        "colab": {
          "base_uri": "https://localhost:8080/"
        },
        "id": "I4LYh_s3-xST",
        "outputId": "cfcf8fe6-bd54-473d-f246-c6ec9fcaf244"
      },
      "execution_count": null,
      "outputs": [
        {
          "output_type": "stream",
          "name": "stdout",
          "text": [
            "a * 3 =  ['john', 'even', 'john', 'even', 'john', 'even']\n",
            "b * 0 =  []\n"
          ]
        }
      ]
    },
    {
      "cell_type": "code",
      "source": [
        "# 리스트 값 추가하기\n",
        "# 변수.append([]) 안에 리스트 형태일 때는 리스트 형태로 변수에 추가 된다.\n",
        "a = [100, 200, 300]\n",
        "a.append(400)\n",
        "print(a)\n",
        "\n",
        "a.append([500, 600])\n",
        "print(a)"
      ],
      "metadata": {
        "colab": {
          "base_uri": "https://localhost:8080/"
        },
        "id": "OkDNg5oL6UW-",
        "outputId": "28a71eeb-3972-4f55-87c3-74b87b677751"
      },
      "execution_count": null,
      "outputs": [
        {
          "output_type": "stream",
          "name": "stdout",
          "text": [
            "[100, 200, 300, 400]\n",
            "[100, 200, 300, 400, [500, 600]]\n"
          ]
        }
      ]
    },
    {
      "cell_type": "code",
      "source": [
        "#변수.extend([]) 안에 리스트 형태 일지라도 변수에 숫자 또는 문자로만 추가 된다.\n",
        "a = [100, 200, 300]\n",
        "a.append(400)\n",
        "print(a)\n",
        "\n",
        "a.extend([500, 600])\n",
        "print(a)"
      ],
      "metadata": {
        "colab": {
          "base_uri": "https://localhost:8080/"
        },
        "id": "bdPHiJJ17YMM",
        "outputId": "a4261c5c-38a8-4c10-ae84-0fa13c73aeb9"
      },
      "execution_count": null,
      "outputs": [
        {
          "output_type": "stream",
          "name": "stdout",
          "text": [
            "[100, 200, 300, 400]\n",
            "[100, 200, 300, 400, 500, 600]\n"
          ]
        }
      ]
    },
    {
      "cell_type": "code",
      "source": [
        "a = [4, 3, 2, 1, \"A\"]\n",
        "a.remove(1) # 리스트 안에 있는 값을 삭제\n",
        "print(a)\n",
        "a.remove(\"A\")\n",
        "print(a)"
      ],
      "metadata": {
        "colab": {
          "base_uri": "https://localhost:8080/"
        },
        "id": "D7b8nK9Z72WC",
        "outputId": "8fa4531d-37a7-4f4d-cf4b-40975ccbcbe6"
      },
      "execution_count": null,
      "outputs": [
        {
          "output_type": "stream",
          "name": "stdout",
          "text": [
            "[4, 3, 2, 'A']\n",
            "[4, 3, 2]\n"
          ]
        }
      ]
    },
    {
      "cell_type": "code",
      "source": [
        "b = [\"a\", \"b\", \"c\", \"d\"]\n",
        "x = b.pop()\n",
        "print(x)\n",
        "print(b)"
      ],
      "metadata": {
        "colab": {
          "base_uri": "https://localhost:8080/"
        },
        "id": "ptr49ABI8qrP",
        "outputId": "f46dd391-77ec-4a69-8378-ced36a0f1860"
      },
      "execution_count": null,
      "outputs": [
        {
          "output_type": "stream",
          "name": "stdout",
          "text": [
            "d\n",
            "['a', 'b', 'c']\n"
          ]
        }
      ]
    },
    {
      "cell_type": "code",
      "source": [
        "a = [1, 4, 5, 2, 3]\n",
        "b = [1, 4, 5, 2, 3]\n",
        "\n",
        "a.sort()\n",
        "print(\"sort(): \", a) # 앞 부터 출력할 때\n",
        "\n",
        "# 내림차순, sort()\n",
        "b.sort(reverse=True) # 뒤 부터 출력할 때\n",
        "print(\"sort(reverse=True): \", b)"
      ],
      "metadata": {
        "colab": {
          "base_uri": "https://localhost:8080/"
        },
        "id": "UXXKNkH4CYY1",
        "outputId": "a2f66abe-5fc9-482d-d238-82896e8f8a1b"
      },
      "execution_count": null,
      "outputs": [
        {
          "output_type": "stream",
          "name": "stdout",
          "text": [
            "sort():  [1, 2, 3, 4, 5]\n",
            "sort(reverse=True):  [5, 4, 3, 2, 1]\n"
          ]
        }
      ]
    },
    {
      "cell_type": "code",
      "source": [
        "c = ['4', '3', '2', 'a']\n",
        "cb = c.sort()\n",
        "print(cb)"
      ],
      "metadata": {
        "colab": {
          "base_uri": "https://localhost:8080/"
        },
        "id": "FoyfZIkOEySu",
        "outputId": "c62cef6c-b1e7-4404-b041-3708cb1bd146"
      },
      "execution_count": null,
      "outputs": [
        {
          "output_type": "stream",
          "name": "stdout",
          "text": [
            "None\n"
          ]
        }
      ]
    },
    {
      "cell_type": "code",
      "source": [
        "a = (0, 1, 2, 3, 'a')\n",
        "print(type(a))\n",
        "\n",
        "b = list(a)\n",
        "print(b)\n",
        "b[1] = \"b\"\n",
        "\n",
        "a = tuple(b)\n",
        "print(a)\n",
        "# del a[4]"
      ],
      "metadata": {
        "colab": {
          "base_uri": "https://localhost:8080/"
        },
        "id": "NevD40P6Epx2",
        "outputId": "b334f8ed-2d84-4789-ca3b-ebf9bc6ee2f7"
      },
      "execution_count": null,
      "outputs": [
        {
          "output_type": "stream",
          "name": "stdout",
          "text": [
            "<class 'tuple'>\n",
            "[0, 1, 2, 3, 'a']\n",
            "(0, 'b', 2, 3, 'a')\n"
          ]
        }
      ]
    },
    {
      "cell_type": "code",
      "source": [
        "# 딕셔너리 --> key-value 값으로 나뉨.\n",
        "\n",
        "dict_01 = {'teacher' : 'Joon',\n",
        "           'class' : 100,\n",
        "           'students' : 15,\n",
        "           'students_name' : ['A', \"Z\"]}\n",
        "print(dict_01)\n",
        "print(dict_01['teacher'])\n",
        "print(dict_01['students'])\n",
        "print(dict_01['students_name'])"
      ],
      "metadata": {
        "colab": {
          "base_uri": "https://localhost:8080/"
        },
        "id": "gnxZLnt5Hrx5",
        "outputId": "da3c4780-43bc-44e8-f7f3-e242d9d948bf"
      },
      "execution_count": null,
      "outputs": [
        {
          "output_type": "stream",
          "name": "stdout",
          "text": [
            "{'teacher': 'Joon', 'class': 100, 'students': 15, 'students_name': ['A', 'Z']}\n",
            "Joon\n",
            "15\n",
            "['A', 'Z']\n"
          ]
        }
      ]
    },
    {
      "cell_type": "code",
      "source": [
        "print(dict_01.keys())"
      ],
      "metadata": {
        "colab": {
          "base_uri": "https://localhost:8080/"
        },
        "id": "NJ94asCTI8-C",
        "outputId": "b8e13ba8-49dd-4a4c-bdee-9bb59ca600ba"
      },
      "execution_count": null,
      "outputs": [
        {
          "output_type": "stream",
          "name": "stdout",
          "text": [
            "dict_keys(['teacher', 'class', 'students', 'students_name'])\n"
          ]
        }
      ]
    },
    {
      "cell_type": "code",
      "source": [
        "print(dict_01.values())"
      ],
      "metadata": {
        "colab": {
          "base_uri": "https://localhost:8080/"
        },
        "id": "QOJTCHORJDgq",
        "outputId": "fb6c83bd-6c6f-446d-b837-e74990c22626"
      },
      "execution_count": null,
      "outputs": [
        {
          "output_type": "stream",
          "name": "stdout",
          "text": [
            "dict_values(['Joon', 100, 15, ['A', 'Z']])\n"
          ]
        }
      ]
    },
    {
      "cell_type": "code",
      "source": [
        "dict_01.items()"
      ],
      "metadata": {
        "colab": {
          "base_uri": "https://localhost:8080/"
        },
        "id": "CuGZSXigJK3W",
        "outputId": "0ed4e23f-ee89-43ba-aff1-dec5ad383847"
      },
      "execution_count": null,
      "outputs": [
        {
          "output_type": "execute_result",
          "data": {
            "text/plain": [
              "dict_items([('teacher', 'Joon'), ('class', 100), ('students', 15), ('students_name', ['A', 'Z'])])"
            ]
          },
          "metadata": {},
          "execution_count": 93
        }
      ]
    },
    {
      "cell_type": "markdown",
      "source": [
        "## 반복문\n",
        "- 2번째 과제 : 안녕하세요! 100번 반복하세요. \n",
        "- 3번째 과제 : 안녕하세요! 789256번 반복하세요! "
      ],
      "metadata": {
        "id": "Q6LkmgsOVXeH"
      }
    },
    {
      "cell_type": "markdown",
      "source": [
        "- 반복문 작성 방식이 여러가지임.. zip, range, enumerate, len, etc "
      ],
      "metadata": {
        "id": "sry7noRSZrlI"
      }
    },
    {
      "cell_type": "code",
      "source": [
        "a = \"안녕하세요!\"\n",
        "b = a * 100\n",
        "\n",
        "print(b)"
      ],
      "metadata": {
        "colab": {
          "base_uri": "https://localhost:8080/"
        },
        "id": "gZY7TwVjJq9B",
        "outputId": "fa291af1-1024-4941-fcd6-988af9dfd0c1"
      },
      "execution_count": null,
      "outputs": [
        {
          "output_type": "stream",
          "name": "stdout",
          "text": [
            "안녕하세요!안녕하세요!안녕하세요!안녕하세요!안녕하세요!안녕하세요!안녕하세요!안녕하세요!안녕하세요!안녕하세요!안녕하세요!안녕하세요!안녕하세요!안녕하세요!안녕하세요!안녕하세요!안녕하세요!안녕하세요!안녕하세요!안녕하세요!안녕하세요!안녕하세요!안녕하세요!안녕하세요!안녕하세요!안녕하세요!안녕하세요!안녕하세요!안녕하세요!안녕하세요!안녕하세요!안녕하세요!안녕하세요!안녕하세요!안녕하세요!안녕하세요!안녕하세요!안녕하세요!안녕하세요!안녕하세요!안녕하세요!안녕하세요!안녕하세요!안녕하세요!안녕하세요!안녕하세요!안녕하세요!안녕하세요!안녕하세요!안녕하세요!안녕하세요!안녕하세요!안녕하세요!안녕하세요!안녕하세요!안녕하세요!안녕하세요!안녕하세요!안녕하세요!안녕하세요!안녕하세요!안녕하세요!안녕하세요!안녕하세요!안녕하세요!안녕하세요!안녕하세요!안녕하세요!안녕하세요!안녕하세요!안녕하세요!안녕하세요!안녕하세요!안녕하세요!안녕하세요!안녕하세요!안녕하세요!안녕하세요!안녕하세요!안녕하세요!안녕하세요!안녕하세요!안녕하세요!안녕하세요!안녕하세요!안녕하세요!안녕하세요!안녕하세요!안녕하세요!안녕하세요!안녕하세요!안녕하세요!안녕하세요!안녕하세요!안녕하세요!안녕하세요!안녕하세요!안녕하세요!안녕하세요!안녕하세요!\n"
          ]
        }
      ]
    },
    {
      "cell_type": "code",
      "source": [
        "for i in range(100):\n",
        "  print(i + 1, \"안녕하세요!\")"
      ],
      "metadata": {
        "id": "-zGu1QvqKBN6"
      },
      "execution_count": null,
      "outputs": []
    },
    {
      "cell_type": "code",
      "source": [
        "a = range(7)\n",
        "#print(a)\n",
        "\n",
        "for n in a:\n",
        "  print(str(n + 1) + \"번째 인사\")\n",
        "  if(n + 1) == 7:\n",
        "    print(\"안녕히 가십시요~\")\n",
        "    break\n",
        "  print(\"어서오십시요~\")"
      ],
      "metadata": {
        "colab": {
          "base_uri": "https://localhost:8080/"
        },
        "id": "RUC-QBv-K3Nv",
        "outputId": "14649e96-9d56-4a90-a5f9-189f0c473488"
      },
      "execution_count": null,
      "outputs": [
        {
          "output_type": "stream",
          "name": "stdout",
          "text": [
            "1번째 인사\n",
            "어서오십시요~\n",
            "2번째 인사\n",
            "어서오십시요~\n",
            "3번째 인사\n",
            "어서오십시요~\n",
            "4번째 인사\n",
            "어서오십시요~\n",
            "5번째 인사\n",
            "어서오십시요~\n",
            "6번째 인사\n",
            "어서오십시요~\n",
            "7번째 인사\n",
            "안녕히 가십시요~\n"
          ]
        }
      ]
    },
    {
      "cell_type": "code",
      "source": [
        "alphabets = ['A', 'B', 'C']\n",
        "for index, value in enumerate(alphabets):\n",
        "  print(index, value)"
      ],
      "metadata": {
        "colab": {
          "base_uri": "https://localhost:8080/"
        },
        "id": "boFDDb1TZLQv",
        "outputId": "4a447d36-2ed5-40eb-d356-edc7686c6b7d"
      },
      "execution_count": null,
      "outputs": [
        {
          "output_type": "stream",
          "name": "stdout",
          "text": [
            "0 A\n",
            "1 B\n",
            "2 C\n"
          ]
        }
      ]
    }
  ]
}