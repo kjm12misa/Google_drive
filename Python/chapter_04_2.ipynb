{
  "nbformat": 4,
  "nbformat_minor": 0,
  "metadata": {
    "colab": {
      "name": "chapter.04_2",
      "provenance": [],
      "collapsed_sections": [],
      "authorship_tag": "ABX9TyOMjbBmQ12FSUfyRyW6K6l4",
      "include_colab_link": true
    },
    "kernelspec": {
      "name": "python3",
      "display_name": "Python 3"
    },
    "language_info": {
      "name": "python"
    }
  },
  "cells": [
    {
      "cell_type": "markdown",
      "metadata": {
        "id": "view-in-github",
        "colab_type": "text"
      },
      "source": [
        "<a href=\"https://colab.research.google.com/github/kjm12misa/Google_drive/blob/main/Python/chapter_04_2.ipynb\" target=\"_parent\"><img src=\"https://colab.research.google.com/assets/colab-badge.svg\" alt=\"Open In Colab\"/></a>"
      ]
    },
    {
      "cell_type": "markdown",
      "source": [
        "### 4_2. 확률적 경사 하강법\n",
        "\n",
        "경사하강법이 쓰인 여러 알고리즘\n",
        " - (이미지, 텍스트) 딥러닝 기초 알고리즘\n",
        " - 트리 알고리즘 + 경사하강법 융합 = 부스팅 계열\n",
        "  : 대표 알고리즘 : LightGBM, Xgboost, Catboost\n",
        " - 1등으로 자주 쓰이는 알고리즘 = LightGBM, Xgboost\n",
        "  - 하이퍼 파라미터의 개수가 80개 넘음."
      ],
      "metadata": {
        "id": "qzCxQXxmE3yb"
      }
    },
    {
      "cell_type": "code",
      "execution_count": null,
      "metadata": {
        "colab": {
          "base_uri": "https://localhost:8080/"
        },
        "id": "9AR-pjS0PnO2",
        "outputId": "bca89893-5e2c-42cb-a1ac-ab058c9d9274"
      },
      "outputs": [
        {
          "output_type": "stream",
          "name": "stdout",
          "text": [
            "<class 'pandas.core.frame.DataFrame'>\n",
            "RangeIndex: 159 entries, 0 to 158\n",
            "Data columns (total 6 columns):\n",
            " #   Column    Non-Null Count  Dtype  \n",
            "---  ------    --------------  -----  \n",
            " 0   Species   159 non-null    object \n",
            " 1   Weight    159 non-null    float64\n",
            " 2   Length    159 non-null    float64\n",
            " 3   Diagonal  159 non-null    float64\n",
            " 4   Height    159 non-null    float64\n",
            " 5   Width     159 non-null    float64\n",
            "dtypes: float64(5), object(1)\n",
            "memory usage: 7.6+ KB\n"
          ]
        }
      ],
      "source": [
        "# 확률적 경사하강법 분류기\n",
        "\n",
        "import pandas as pd \n",
        "fish = pd.read_csv(\"https://bit.ly/fish_csv_data\")\n",
        "fish.info()"
      ]
    },
    {
      "cell_type": "code",
      "source": [
        "fish_input = fish[['Weight', 'Length', 'Diagonal', 'Height', 'Width']].to_numpy() # [[]] 안에 float64(Dtype)를 넣어주는군?\n",
        "fish_target = fish['Species'].to_numpy() # target에 Dtype의 object인 Species를 넣어준 것임"
      ],
      "metadata": {
        "id": "mXXyzeNVQHH5"
      },
      "execution_count": null,
      "outputs": []
    },
    {
      "cell_type": "code",
      "source": [
        "from sklearn.model_selection import train_test_split # 자주 쓰이니까 그냥 외우자!\n",
        "train_input, test_input, train_target, test_target = train_test_split(fish_input, fish_target, random_state=42) # 자주 배우는데 외워야 하는 건가?\n",
        "\n",
        "train_input.shape, test_input.shape, train_target.shape, test_target.shape # shape 을 보면 119줄에 5개의 데이터, 40줄에 5개의 데이터,,,,"
      ],
      "metadata": {
        "colab": {
          "base_uri": "https://localhost:8080/"
        },
        "id": "j51rIIXOQHFI",
        "outputId": "b18dd673-342d-4dcc-dac1-1ed5b7450b9a"
      },
      "execution_count": null,
      "outputs": [
        {
          "output_type": "execute_result",
          "data": {
            "text/plain": [
              "((119, 5), (40, 5), (119,), (40,))"
            ]
          },
          "metadata": {},
          "execution_count": 4
        }
      ]
    },
    {
      "cell_type": "markdown",
      "source": [
        "#### 표준화 처리\n",
        " - 꼭 훈련 세트에서 학습한 통계값으로 테스트 세트도 변환한다.\n",
        "  + 키워드 : Data Leakage 방지"
      ],
      "metadata": {
        "id": "dQGVAWmPRiQg"
      }
    },
    {
      "cell_type": "code",
      "source": [
        "from sklearn.preprocessing import StandardScaler\n",
        "ss = StandardScaler()\n",
        "ss.fit(train_input)\n",
        "\n",
        "# ss는 훈련데이터만 활용하여 학습(?)이 끝난 상태\n",
        "# 표준화 처리를 훈련 데이터와 테스트 데이터에 동시 적용\n",
        "train_scaled = ss.transform(train_input)\n",
        "test_scaled = ss.transform(test_input)"
      ],
      "metadata": {
        "id": "KixYuT8lQG59"
      },
      "execution_count": null,
      "outputs": []
    },
    {
      "cell_type": "markdown",
      "source": [
        "#### 모델학습\n",
        "  - 2개의 매개 변수 지정\n",
        "  - loss=\"log\" = 로지시틱 손실 함수로 지정\n",
        "  - max_iter = 에포크 횟수 지정(반복 횟수 설정)\n",
        " #### SGDClassifier \n",
        "  - 확률적 경사 강하(SGD) 학습을 통해 정규화된 선형 모델을 구현\n",
        "  - 기본 학습 속도 스케줄을 사용하여 최상의 결과를 얻으려면 데이터의 평균과 단위 분산이 0이어야 함.\n",
        "  - 출처 : https://scikit-learn.org/stable/modules/generated/sklearn.linear_model.SGDClassifier.html\n",
        "  - 라이브러리 단어 정리\n",
        "    + 출처 : https://inuplace.tistory.com/516"
      ],
      "metadata": {
        "id": "eJsbkWkBS6_5"
      }
    },
    {
      "cell_type": "code",
      "source": [
        "from sklearn.linear_model import SGDClassifier\n",
        "\n",
        "sc = SGDClassifier(loss='log', max_iter=35, random_state=42)\n",
        "\n",
        "sc.fit(train_scaled, train_target)\n",
        "# 스코어 확인(정확도)\n",
        "print(sc.score(train_scaled, train_target))\n",
        "print(sc.score(test_scaled, test_target))"
      ],
      "metadata": {
        "colab": {
          "base_uri": "https://localhost:8080/"
        },
        "id": "nBA7EwlMRWsv",
        "outputId": "ed42be10-4c44-4ca6-a587-8b29e5b81fd8"
      },
      "execution_count": null,
      "outputs": [
        {
          "output_type": "stream",
          "name": "stdout",
          "text": [
            "0.8403361344537815\n",
            "0.8\n"
          ]
        }
      ]
    },
    {
      "cell_type": "markdown",
      "source": [
        "- np.unique : 주어진 NumPy 배열의 모든 고유 값을 검색하고 이러한 고유 값을 정렬.\n",
        "- 중복된 숫자를 제외하고 출력해주는 형식.\n",
        "- 출처 : https://www.delftstack.com/ko/api/numpy/python-numpy-unique/"
      ],
      "metadata": {
        "id": "SINeuzcVL1Bq"
      }
    },
    {
      "cell_type": "code",
      "source": [
        "# 적절한 에포크 숫자를 찾는 코드 수식\n",
        "import numpy as np \n",
        "sc = SGDClassifier(loss = \"log\", random_state = 42)\n",
        "train_score = []\n",
        "test_score = []\n",
        "classes = np.unique(train_target) # train_target에서 중복된 숫자를 제외하고 출력한 값을 classes 라고 정함.\n",
        "\n",
        "for _ in range(0, 300):\n",
        "  sc.partial_fit(train_scaled, train_target, classes = classes)\n",
        "  train_score.append(sc.score(train_scaled, train_target))\n",
        "  test_score.append(sc.score(test_scaled, test_target))\n",
        "\n",
        "# 정확도\n",
        "print(train_score[:5])\n",
        "print(test_score[:5])"
      ],
      "metadata": {
        "colab": {
          "base_uri": "https://localhost:8080/"
        },
        "id": "V4lQJXAERWpn",
        "outputId": "e35b4657-f4eb-434c-afaf-82464a836b53"
      },
      "execution_count": null,
      "outputs": [
        {
          "output_type": "stream",
          "name": "stdout",
          "text": [
            "[0.5294117647058824, 0.6218487394957983, 0.6386554621848739, 0.7310924369747899, 0.7226890756302521]\n",
            "[0.65, 0.55, 0.575, 0.7, 0.7]\n"
          ]
        }
      ]
    },
    {
      "cell_type": "markdown",
      "source": [
        "- 정확도 점수 확인 하고 난 뒤 그래프로 과소적합, 과대적합 보고 문제점이 있응면 확인하고 다시 수식 변경.\n",
        "- 밑에 그래프에서는 x:y -> marker'*' 부터? 최소적합이 나타 나고, marker'D' 지점 부터 과대적합이 보임. marker'^'이 평탄한,,지점?"
      ],
      "metadata": {
        "id": "QYsTl21EPThL"
      }
    },
    {
      "cell_type": "code",
      "source": [
        "\n",
        "import matplotlib.pyplot as plt\n",
        "\n",
        "fig, ax = plt.subplots()\n",
        "ax.plot(train_score)\n",
        "ax.plot(test_score)\n",
        "ax.plot(130, 0.96, marker='*')\n",
        "ax.plot(0.5, 0.55, marker='D')\n",
        "ax.plot(90, 0.935, marker='^')\n",
        "ax.set_xlabel('Epoch')\n",
        "ax.set_ylabel('Accur')\n",
        "plt.show()"
      ],
      "metadata": {
        "colab": {
          "base_uri": "https://localhost:8080/",
          "height": 279
        },
        "id": "Gf9dpi-KRWmn",
        "outputId": "d252d327-c53b-4621-c20f-9069a25185bf"
      },
      "execution_count": null,
      "outputs": [
        {
          "output_type": "display_data",
          "data": {
            "text/plain": [
              "<Figure size 432x288 with 1 Axes>"
            ],
            "image/png": "[encoded data removed]"
          },
          "metadata": {
            "needs_background": "light"
          }
        }
      ]
    },
    {
      "cell_type": "markdown",
      "source": [
        "- loss='hinge' -> 듀얼에서 약간의 희소성(보증되지 않음)을 발생시키지만 확률 추정에는 도움이 되지 않음.\n",
        "- tol : 정밀도\n"
      ],
      "metadata": {
        "id": "RFGPa8wgRFfB"
      }
    },
    {
      "cell_type": "code",
      "source": [
        "sc = SGDClassifier(loss='hinge', max_iter=100, tol = None, random_state=42)\n",
        "sc.fit(train_scaled, train_target)\n",
        "print(sc.score(train_scaled, train_target))\n",
        "print(sc.score(test_scaled, test_target))"
      ],
      "metadata": {
        "colab": {
          "base_uri": "https://localhost:8080/"
        },
        "id": "P6QNFiPUViQ5",
        "outputId": "8f1a5ad8-771b-4372-dbe2-d105934d529b"
      },
      "execution_count": null,
      "outputs": [
        {
          "output_type": "stream",
          "name": "stdout",
          "text": [
            "0.9495798319327731\n",
            "0.925\n"
          ]
        }
      ]
    },
    {
      "cell_type": "code",
      "source": [
        "for _ in range(0, 600):\n",
        "  sc.partial_fit(train_scaled, train_target, classes = classes)\n",
        "  train_score.append(sc.score(train_scaled, train_target))\n",
        "  test_score.append(sc.score(test_scaled, test_target))\n",
        "\n",
        "# 정확도\n",
        "print(train_score[:5])\n",
        "print(test_score[:5])\n",
        "\n",
        "fig, ax = plt.subplots()\n",
        "ax.plot(train_score)\n",
        "ax.plot(test_score)\n",
        "ax.set_xlabel('Epoch')\n",
        "ax.set_ylabel('Accur')\n",
        "plt.show()"
      ],
      "metadata": {
        "colab": {
          "base_uri": "https://localhost:8080/",
          "height": 316
        },
        "id": "mySSxLrjViNo",
        "outputId": "f3797c1e-eff6-4f18-913f-de6b20eb1f63"
      },
      "execution_count": null,
      "outputs": [
        {
          "output_type": "stream",
          "name": "stdout",
          "text": [
            "[0.5294117647058824, 0.6218487394957983, 0.6386554621848739, 0.7310924369747899, 0.7226890756302521]\n",
            "[0.65, 0.55, 0.575, 0.7, 0.7]\n"
          ]
        },
        {
          "output_type": "display_data",
          "data": {
            "text/plain": [
              "<Figure size 432x288 with 1 Axes>"
            ],
            "image/png": "[encoded data removed]"
          },
          "metadata": {
            "needs_background": "light"
          }
        }
      ]
    },
    {
      "cell_type": "markdown",
      "source": [
        "- 그래프가,, 왜 저모양인지,, 여전히 최소적합 부분은 있고,, 과대적합 부분도 있는데 Epoch 300 부터 그래프를 어떻게 설명해야 할 지 모르겠다,, 겹치는 것도 있고,, 과소적합 같지는 않고,, 과대적합은 애매한게 아닌것 같고,, 정상인가?\n",
        "range 부분을 300에서 600을 변경했더니 아예 겹쳐지고 있다. train_score와 test_score 의 점수가 비슷한 값이 나와서 겹쳐져 있나 보다. 이게 좋은 건가?"
      ],
      "metadata": {
        "id": "nWidG55kSgpj"
      }
    }
  ]
}