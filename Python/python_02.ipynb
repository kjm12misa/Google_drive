{
  "nbformat": 4,
  "nbformat_minor": 0,
  "metadata": {
    "colab": {
      "name": "python_02",
      "provenance": [],
      "collapsed_sections": [],
      "authorship_tag": "ABX9TyMm7W9O4y3Q+OGqic0QRtqv",
      "include_colab_link": true
    },
    "kernelspec": {
      "name": "python3",
      "display_name": "Python 3"
    },
    "language_info": {
      "name": "python"
    }
  },
  "cells": [
    {
      "cell_type": "markdown",
      "metadata": {
        "id": "view-in-github",
        "colab_type": "text"
      },
      "source": [
        "<a href=\"https://colab.research.google.com/github/kjm12misa/Google_drive/blob/main/Python/python_02.ipynb\" target=\"_parent\"><img src=\"https://colab.research.google.com/assets/colab-badge.svg\" alt=\"Open In Colab\"/></a>"
      ]
    },
    {
      "cell_type": "markdown",
      "source": [
        "### 파이썬 함수 주석 처리\n",
        "\n",
        "# /usr/local/bin/python\n",
        "# -*- coding : utf-8 -*-\n",
        "\n",
        "#### 단어 정리\n",
        " - return : 함수의 결과값을 돌려주는 명령어\n",
        " - def : 함수를 만들 때 사용 하는 예약어\n",
        " - 함수명 : 함수를 만드는 사람이 임의로 만들 수 있음.\n",
        " - 매개변수 : 함수에 입력으로 전달 되는 값을 받는 변수.\n",
        " - \n",
        "\n",
        "코딩 형식\n",
        "\n",
        "def add(a, b):\n",
        "\n",
        "  c = a + b\n",
        "\n",
        "  return c\n",
        "\n",
        "결과값이 없는 함수(기본 식을 만들고 변수가 변경 될 때마다 적용되는 함수식)\n",
        "\n",
        "def add(a, b):\n",
        "\n",
        "    print(\"%d, %d의 합은 %d입니다.\" % (a, b, a+b))\n",
        "\n",
        "#### ex)\n",
        "def add(3, 4)\n",
        "\n",
        "    print(\"%d, %d의 합은 %d입니다.\" % (a, b, a+b))\n",
        "결과값 -> 3, 4의 합은 7입니다.\n",
        "\n",
        "#### ex)\n",
        "a = 3\n",
        "b = 4\n",
        "\n",
        "c = add(a, b)\n",
        "\n",
        "print(c) #결과값 7\n",
        "\n",
        "a = add(3, 4)\n",
        "\n",
        "print(a) # 결과값 7\n",
        "###----------------------------------\n",
        "if __name__ == \"__main__\" : #관용구 \n",
        "  a = 1\n",
        "  b = 2\n",
        "  c = add(a, b)\n",
        "  print(c)\n",
        "  help(add(a, b))\n",
        "\n",
        "def temp() : \n",
        "\"\"\"a와 b를 합산하는 함수 입니다.\"\"\"\n",
        "  print(temp)\n",
        "  c = a + b\n",
        "  return c\n",
        "\n",
        "\n",
        "# ex.\n",
        "---함수 문서화 st\n",
        "\n",
        "def temp(content, letter) :\n",
        "  \"\"\"content안에 있는 문자를 세는 함수입니다.\n",
        "\n",
        "  Args :\n",
        "    content(str) : 탐색 문자열\n",
        "    letter(str) : 찾을 문자열\n",
        "\n",
        "  Returns:\n",
        "    int\n",
        "  \"\"\"\n",
        "  print(\"함수 테스트\") # ---- end\n",
        "\n",
        "  cnt = len([char for char in content if char == letter])\n",
        "  return cnt\n",
        "\n",
        "if __name__ == \"__main__\":\n",
        "  # help(temp)\n",
        "  docstring = temp.__doc__\n",
        "  print(docstring)\n",
        "\n",
        "-> 결과값\n",
        "content안에 있는 문자를 세는 함수입니다.\n",
        "\n",
        "  Args :\n",
        "    content(str) : 탐색 문자열\n",
        "    letter(str) : 찾을 문자열\n",
        "\n",
        "  Returns:\n",
        "    int"
      ],
      "metadata": {
        "id": "tigyzjngRMlV"
      }
    },
    {
      "cell_type": "code",
      "source": [
        "def temp(content, letter) :\n",
        "  \"\"\"content안에 있는 문자를 세는 함수입니다.\n",
        "\n",
        "  Args :\n",
        "    content(str) : 탐색 문자열\n",
        "    letter(str) : 찾을 문자열\n",
        "\n",
        "  Returns:\n",
        "    int\n",
        "  \"\"\"\n",
        "  print(\"함수 테스트\") # --- 여기까지.\n",
        "\n",
        "  cnt = len([char for char in content if char == letter])\n",
        "  return cnt # return : 함수의 결과값을 돌려주는 명령어\n",
        "\n",
        "if __name__ == \"__main__\":\n",
        "  # help(temp)\n",
        "  docstring = temp.__doc__\n",
        "  print(docstring)"
      ],
      "metadata": {
        "id": "z4FOMeFmUUP5"
      },
      "execution_count": null,
      "outputs": []
    },
    {
      "cell_type": "markdown",
      "source": [
        "### 리스트 컴프리헨션\n",
        "\n",
        "- for-loop 반목문을 한줄로 처리\n"
      ],
      "metadata": {
        "id": "uo0pbwLhXi6b"
      }
    },
    {
      "cell_type": "code",
      "source": [
        "my_list = [[10], [20, 30]]\n",
        "#print(my_list) # 결과값 [[10], [20, 30]]\n",
        "\n",
        "for value_list in my_list:\n",
        " # print(value_list)\n",
        "  for value in value_list:\n",
        "    print(value)\n",
        "  flattened_list.append(value)\n",
        "\n",
        "print(flattened_list)"
      ],
      "metadata": {
        "id": "fq9pcJ5XWUFw",
        "colab": {
          "base_uri": "https://localhost:8080/"
        },
        "outputId": "b47471c6-57ad-497b-e3c5-f7a2ef3870c1"
      },
      "execution_count": null,
      "outputs": [
        {
          "output_type": "stream",
          "name": "stdout",
          "text": [
            "10\n",
            "20\n",
            "30\n",
            "[10, 20, 30, 10, 30]\n"
          ]
        }
      ]
    },
    {
      "cell_type": "code",
      "source": [
        "my_list = [[10], [20, 30]]\n",
        "flattened_list = [value for value_list in my_list for value in value_list]\n",
        "print(flattened_list)"
      ],
      "metadata": {
        "colab": {
          "base_uri": "https://localhost:8080/"
        },
        "id": "H7zzbJspZT-T",
        "outputId": "3895bbd5-d038-419d-9b23-c98222084c95"
      },
      "execution_count": null,
      "outputs": [
        {
          "output_type": "stream",
          "name": "stdout",
          "text": [
            "[10, 20, 30]\n"
          ]
        }
      ]
    },
    {
      "cell_type": "code",
      "source": [
        "letters =[]\n",
        "for char in \"helloworld\":\n",
        "  letters.append(char)\n",
        "print(letters)"
      ],
      "metadata": {
        "colab": {
          "base_uri": "https://localhost:8080/"
        },
        "id": "bKGos768ZpV0",
        "outputId": "9751d2d0-4160-464e-86a4-dbf289870cf9"
      },
      "execution_count": null,
      "outputs": [
        {
          "output_type": "stream",
          "name": "stdout",
          "text": [
            "['h', 'e', 'l', 'l', 'o', 'w', 'o', 'r', 'l', 'd']\n"
          ]
        }
      ]
    },
    {
      "cell_type": "code",
      "source": [
        "letters2 = [char for char in \"helloworld\"]\n",
        "print(letters2)"
      ],
      "metadata": {
        "colab": {
          "base_uri": "https://localhost:8080/"
        },
        "id": "aF12RJfCZ4sT",
        "outputId": "41c61245-4629-4ad9-ff72-e8e81b205440"
      },
      "execution_count": null,
      "outputs": [
        {
          "output_type": "stream",
          "name": "stdout",
          "text": [
            "['h', 'e', 'l', 'l', 'o', 'w', 'o', 'r', 'l', 'd']\n"
          ]
        }
      ]
    },
    {
      "cell_type": "code",
      "source": [
        "value_list = [1, 2, 3, 4, 5]\n",
        "midpoint(sum())\n",
        "print(midpoint)"
      ],
      "metadata": {
        "colab": {
          "base_uri": "https://localhost:8080/"
        },
        "id": "8A1cCCWjaCc4",
        "outputId": "01fbe8d1-8804-45cc-c23d-afde1997be4a"
      },
      "execution_count": null,
      "outputs": [
        {
          "output_type": "stream",
          "name": "stdout",
          "text": [
            "avg: 3.0\n",
            "2\n"
          ]
        }
      ]
    },
    {
      "cell_type": "code",
      "source": [
        "def mean_and_median(value_list):\n",
        "  \"\"\"숫자 리스트의 요소들의 평균과 중간값을 구하는 코드를 작성해라\n",
        "  Args:\n",
        "    value_list (iterable of int / float): A list of int numbers \n",
        "  \n",
        "  Returns:\n",
        "    tuple(float, float)\n",
        "  \"\"\"\n",
        "  \n",
        "  # 평균\n",
        "  mean = sum(value_list) / len(value_list)\n",
        "\n",
        "  # 중간값\n",
        "  midpoint = int(len(value_list) / 2)\n",
        "  if len(value_list) % 2 == 0:\n",
        "    median = (value_list[midpoint - 1] + value_list[midpoint]) / 2\n",
        "  else:\n",
        "    median = value_list[midpoint]\n",
        "\n",
        "  return mean, median\n",
        "\n",
        "if __name__ == \"__main__\":\n",
        "  value_list = [1, 1, 2, 2, 3, 4, 5]\n",
        "  avg, median = mean_and_median(value_list)\n",
        "  print(\"avg:\", avg)\n",
        "  print(\"median\", median)"
      ],
      "metadata": {
        "id": "CX66rB2Wbdcs"
      },
      "execution_count": null,
      "outputs": []
    },
    {
      "cell_type": "code",
      "source": [
        "# class 의 사용의 최적화는 자동화.\n",
        "\n",
        "class person:\n",
        "\n",
        "  # class attribute\n",
        "  country = \"korean\"\n",
        "\n",
        "  # instance attribute\n",
        "  def __init__(self, name, age):\n",
        "    self.name = name\n",
        "    self.age = age\n",
        "\n",
        "if __name__ == \"__main__\":\n",
        "  kim = person(\"kim\", 100)\n",
        "  lee = person(\"lee\", 100)\n",
        "\n",
        "  # access calss attribute\n",
        "  print(\"kim은 {}\" .format(kim.__class__.country))\n",
        "  print(\"lee은 {}\" .format(kim.__class__.country))"
      ],
      "metadata": {
        "colab": {
          "base_uri": "https://localhost:8080/"
        },
        "id": "iYVE0cpJAEq3",
        "outputId": "d44d7f7f-4432-4100-b13d-c55dd4553fd4"
      },
      "execution_count": null,
      "outputs": [
        {
          "output_type": "stream",
          "name": "stdout",
          "text": [
            "kim은 korean\n",
            "lee은 korean\n"
          ]
        }
      ]
    },
    {
      "cell_type": "markdown",
      "source": [
        "## instance 메서드 새성\n",
        " - list.append(), list.extend()"
      ],
      "metadata": {
        "id": "gNih2VA6BZXw"
      }
    },
    {
      "cell_type": "code",
      "source": [
        "class person:\n",
        "\n",
        "  # class attribute\n",
        "  country = \"korean\"\n",
        "\n",
        "  # instance attribute\n",
        "  def __init__(self, name, age):\n",
        "    self.name = name # <- <- 저장 방향(name = self.name 라는 뜻)\n",
        "    self.age = age\n",
        "\n",
        "  # instance method 정의\n",
        "  def sining(self, songtitle):\n",
        "    return \"{} {}을 노래합니다.\" .format(self.name, songtitle)\n",
        "   # return \"{} 판매량 {} 된 {}를 노래합니다.\" .format(self.name, sales, songtitle)\n",
        "if __name__ == \"__main__\":\n",
        "  kim = person(\"kim\", 100)\n",
        "  lee = person(\"lee\", 100)\n",
        "\n",
        "  # access calss attribute\n",
        "  print(\"kim은 {}\" .format(kim.__class__.country)) #__class__ 써야 하는 이유-> class의 역할은 객체에 접근하기 위한 게이트 역할?\n",
        "  print(\"lee은 {}\" .format(kim.__class__.country))\n",
        "\n",
        "  # call instance method\n",
        "  print(kim.sining(\"A\"))\n",
        "  print(kim.sining(\"B\"))\n"
      ],
      "metadata": {
        "colab": {
          "base_uri": "https://localhost:8080/"
        },
        "id": "baaUKqedBuU9",
        "outputId": "959b72aa-403c-49e5-afa9-89360e93d63b"
      },
      "execution_count": null,
      "outputs": [
        {
          "output_type": "stream",
          "name": "stdout",
          "text": [
            "kim은 korean\n",
            "lee은 korean\n",
            "kim A을 노래합니다.\n",
            "kim B을 노래합니다.\n"
          ]
        }
      ]
    },
    {
      "cell_type": "code",
      "source": [
        "#하나하나 할 시에는 너무 손이 많이감. 위와 같은 경우 변수가 바뀌더라도 손이 덜 감.\n",
        "name = \"lee\"\n",
        "songtitle = \"B\"\n",
        "print(\"{} {}를 노래합니다.\" .format(name, songtitle))\n",
        "\n",
        "name = \"kim\"\n",
        "songtitle = \"A\"\n",
        "sales = 500\n",
        "print(\"{} {}를 노래 합니다.\" .format(name, sales, songtitle))"
      ],
      "metadata": {
        "colab": {
          "base_uri": "https://localhost:8080/"
        },
        "id": "kA19qW2-DKdR",
        "outputId": "f9f81d2a-a325-46e7-8927-69e70f301d2f"
      },
      "execution_count": null,
      "outputs": [
        {
          "output_type": "stream",
          "name": "stdout",
          "text": [
            "lee B를 노래합니다.\n",
            "kim A를 노래 합니다.\n"
          ]
        }
      ]
    },
    {
      "cell_type": "markdown",
      "source": [
        "## 클래스 상속\n",
        "### 부모 클래스 intance\n",
        " - 부모님의 유산 : 부모님집(냉장고, 세탁기,,,,), 사용은 같이 함. \n",
        "### 자식 클래스 instance method, attribute 추가 확장\n",
        " - 내가 산 노트북 : 개인 노트북은 내가 사용(전기는 부모님꺼 사용) -> 부모님 내에서 내가 나의 노트북을 구매함으로써 확장을 했다는 의미."
      ],
      "metadata": {
        "id": "8KANVbhcGKWE"
      }
    },
    {
      "cell_type": "code",
      "source": [
        "class parent:\n",
        "  pass\n",
        "\n",
        "class child(parent):\n",
        "  pass\n",
        "\n",
        "if __name__ == \"__main__\"\n",
        "  kim_child = child()"
      ],
      "metadata": {
        "id": "6KVVTJ-NHJCX"
      },
      "execution_count": null,
      "outputs": []
    },
    {
      "cell_type": "code",
      "source": [
        "from typing import NamedTuple\n",
        "\n",
        "# instance method 정의\n",
        "  \n",
        "class parent:\n",
        "    def setparent(self, name, age):\n",
        "      super().__init__(name, age)\n",
        "      print(\"parent class is ON\")\n",
        "   \n",
        "    def whoAmI(self):\n",
        "      print(\"I am parent!!\")\n",
        "\n",
        "    def sining(sdlf, songtitle):\n",
        "      return \"{} {}을 노래합니다.\" .format(self, songtitle)\n",
        "\n",
        "    def dancing(self):\n",
        "      return \"{} 현재 춤을 춥니다.\" .format(self.name)\n",
        "\n",
        "class child(parent):\n",
        "    def __init__(self, name, age):\n",
        "      super().__init__(name, age)\n",
        "      print(\"Child class is ON\")\n",
        "  \n",
        "    def whoAmI(self):\n",
        "      print(\"I am Child\")\n",
        "\n",
        "    def studying(self):\n",
        "      print(\"I am Fast Runner\")\n",
        "\n",
        "if __name__ == \"__main__\":\n",
        "  child_kim = child(\"kim\", 15)\n",
        "  parent_kim = parent(\"kim\", 45)\n",
        "  print(child_kim.dancing())\n",
        "  print(child_kim.singing(\"love\"))\n",
        "  # print(parent_kim.studying()) 부모 속성에 스터딩이 없음."
      ],
      "metadata": {
        "colab": {
          "base_uri": "https://localhost:8080/",
          "height": 400
        },
        "id": "HtlgnbFRNOM7",
        "outputId": "e7bf1eff-2e87-44a5-90b9-702e673fc2ac"
      },
      "execution_count": null,
      "outputs": [
        {
          "output_type": "error",
          "ename": "TypeError",
          "evalue": "ignored",
          "traceback": [
            "\u001b[0;31m---------------------------------------------------------------------------\u001b[0m",
            "\u001b[0;31mTypeError\u001b[0m                                 Traceback (most recent call last)",
            "\u001b[0;32m<ipython-input-64-b72d84b9c0f8>\u001b[0m in \u001b[0;36m<module>\u001b[0;34m()\u001b[0m\n\u001b[1;32m     29\u001b[0m \u001b[0;34m\u001b[0m\u001b[0m\n\u001b[1;32m     30\u001b[0m \u001b[0;32mif\u001b[0m \u001b[0m__name__\u001b[0m \u001b[0;34m==\u001b[0m \u001b[0;34m\"__main__\"\u001b[0m\u001b[0;34m:\u001b[0m\u001b[0;34m\u001b[0m\u001b[0;34m\u001b[0m\u001b[0m\n\u001b[0;32m---> 31\u001b[0;31m   \u001b[0mchild_kim\u001b[0m \u001b[0;34m=\u001b[0m \u001b[0mchild\u001b[0m\u001b[0;34m(\u001b[0m\u001b[0;34m\"kim\"\u001b[0m\u001b[0;34m,\u001b[0m \u001b[0;36m15\u001b[0m\u001b[0;34m)\u001b[0m\u001b[0;34m\u001b[0m\u001b[0;34m\u001b[0m\u001b[0m\n\u001b[0m\u001b[1;32m     32\u001b[0m   \u001b[0mparent_kim\u001b[0m \u001b[0;34m=\u001b[0m \u001b[0mparent\u001b[0m\u001b[0;34m(\u001b[0m\u001b[0;34m\"kim\"\u001b[0m\u001b[0;34m,\u001b[0m \u001b[0;36m45\u001b[0m\u001b[0;34m)\u001b[0m\u001b[0;34m\u001b[0m\u001b[0;34m\u001b[0m\u001b[0m\n\u001b[1;32m     33\u001b[0m   \u001b[0mprint\u001b[0m\u001b[0;34m(\u001b[0m\u001b[0mchild_kim\u001b[0m\u001b[0;34m.\u001b[0m\u001b[0mdancing\u001b[0m\u001b[0;34m(\u001b[0m\u001b[0;34m)\u001b[0m\u001b[0;34m)\u001b[0m\u001b[0;34m\u001b[0m\u001b[0;34m\u001b[0m\u001b[0m\n",
            "\u001b[0;32m<ipython-input-64-b72d84b9c0f8>\u001b[0m in \u001b[0;36m__init__\u001b[0;34m(self, name, age)\u001b[0m\n\u001b[1;32m     19\u001b[0m \u001b[0;32mclass\u001b[0m \u001b[0mchild\u001b[0m\u001b[0;34m(\u001b[0m\u001b[0mparent\u001b[0m\u001b[0;34m)\u001b[0m\u001b[0;34m:\u001b[0m\u001b[0;34m\u001b[0m\u001b[0;34m\u001b[0m\u001b[0m\n\u001b[1;32m     20\u001b[0m     \u001b[0;32mdef\u001b[0m \u001b[0m__init__\u001b[0m\u001b[0;34m(\u001b[0m\u001b[0mself\u001b[0m\u001b[0;34m,\u001b[0m \u001b[0mname\u001b[0m\u001b[0;34m,\u001b[0m \u001b[0mage\u001b[0m\u001b[0;34m)\u001b[0m\u001b[0;34m:\u001b[0m\u001b[0;34m\u001b[0m\u001b[0;34m\u001b[0m\u001b[0m\n\u001b[0;32m---> 21\u001b[0;31m       \u001b[0msuper\u001b[0m\u001b[0;34m(\u001b[0m\u001b[0;34m)\u001b[0m\u001b[0;34m.\u001b[0m\u001b[0m__init__\u001b[0m\u001b[0;34m(\u001b[0m\u001b[0mname\u001b[0m\u001b[0;34m,\u001b[0m \u001b[0mage\u001b[0m\u001b[0;34m)\u001b[0m\u001b[0;34m\u001b[0m\u001b[0;34m\u001b[0m\u001b[0m\n\u001b[0m\u001b[1;32m     22\u001b[0m       \u001b[0mprint\u001b[0m\u001b[0;34m(\u001b[0m\u001b[0;34m\"Child class is ON\"\u001b[0m\u001b[0;34m)\u001b[0m\u001b[0;34m\u001b[0m\u001b[0;34m\u001b[0m\u001b[0m\n\u001b[1;32m     23\u001b[0m \u001b[0;34m\u001b[0m\u001b[0m\n",
            "\u001b[0;32m<ipython-input-64-b72d84b9c0f8>\u001b[0m in \u001b[0;36m__init__\u001b[0;34m(self, name, age)\u001b[0m\n\u001b[1;32m      5\u001b[0m \u001b[0;32mclass\u001b[0m \u001b[0mparent\u001b[0m\u001b[0;34m:\u001b[0m\u001b[0;34m\u001b[0m\u001b[0;34m\u001b[0m\u001b[0m\n\u001b[1;32m      6\u001b[0m     \u001b[0;32mdef\u001b[0m \u001b[0m__init__\u001b[0m\u001b[0;34m(\u001b[0m\u001b[0mself\u001b[0m\u001b[0;34m,\u001b[0m \u001b[0mname\u001b[0m\u001b[0;34m,\u001b[0m \u001b[0mage\u001b[0m\u001b[0;34m)\u001b[0m\u001b[0;34m:\u001b[0m\u001b[0;34m\u001b[0m\u001b[0;34m\u001b[0m\u001b[0m\n\u001b[0;32m----> 7\u001b[0;31m       \u001b[0msuper\u001b[0m\u001b[0;34m(\u001b[0m\u001b[0;34m)\u001b[0m\u001b[0;34m.\u001b[0m\u001b[0m__init__\u001b[0m\u001b[0;34m(\u001b[0m\u001b[0mname\u001b[0m\u001b[0;34m,\u001b[0m \u001b[0mage\u001b[0m\u001b[0;34m)\u001b[0m\u001b[0;34m\u001b[0m\u001b[0;34m\u001b[0m\u001b[0m\n\u001b[0m\u001b[1;32m      8\u001b[0m       \u001b[0mprint\u001b[0m\u001b[0;34m(\u001b[0m\u001b[0;34m\"parent class is ON\"\u001b[0m\u001b[0;34m)\u001b[0m\u001b[0;34m\u001b[0m\u001b[0;34m\u001b[0m\u001b[0m\n\u001b[1;32m      9\u001b[0m \u001b[0;34m\u001b[0m\u001b[0m\n",
            "\u001b[0;31mTypeError\u001b[0m: object.__init__() takes exactly one argument (the instance to initialize)"
          ]
        }
      ]
    },
    {
      "cell_type": "code",
      "source": [
        "class TV:\n",
        "  def __init__(self):\n",
        "    self.__maxprice = 500\n",
        "\n",
        "  def sell(self):\n",
        "    print(\"selling price: {}\" .format(self.__maxprice))\n",
        "\n",
        "  def setMaxprice(self, price):\n",
        "    self.__maxprice = price\n",
        "  \n",
        "if __name__ == \"__main__\":\n",
        "  tv = TV()\n",
        "  tv.sell()\n",
        "\n",
        "# change price\n",
        "# 안바뀌는 코드 예시\n",
        "  tv.__maxprice = 1000\n",
        "  tv.sell()\n",
        "\n",
        "# setMaxprice 외부의 입력값을 업데이트 할 수 있다.\n",
        "  tv.setMaxprice(1000)\n",
        "  tv.sell()"
      ],
      "metadata": {
        "colab": {
          "base_uri": "https://localhost:8080/"
        },
        "id": "O466nCbHRy-x",
        "outputId": "1fb900b3-f4d1-42a5-c094-e9f8b0acea8c"
      },
      "execution_count": null,
      "outputs": [
        {
          "output_type": "stream",
          "name": "stdout",
          "text": [
            "selling price: 500\n",
            "selling price: 500\n",
            "selling price: 1000\n"
          ]
        }
      ]
    },
    {
      "cell_type": "markdown",
      "source": [
        "## 클래스 내부에 조건문\n",
        "- init constructor 조건문 쓰기"
      ],
      "metadata": {
        "id": "mUefrwTzZyev"
      }
    },
    {
      "cell_type": "code",
      "source": [
        "class Employee:\n",
        "\n",
        "  #init constructor\n",
        "  #name, salary\n",
        "  def __init__(self, name, salary = 0):\n",
        "    self.name = name\n",
        "\n",
        "  # 조건문 추가\n",
        "    if salary > 0:\n",
        "      self.salary = salary\n",
        "    else:\n",
        "      self.tip = 0\n",
        "      print(\"급여는 0원이 될 수 없다. 다시 입력해주세요\")\n",
        "  \n",
        "  def update_salary(self, amount):\n",
        "    # self.salary = self.salary + amount\n",
        "    self.salary += amount\n",
        "\n",
        "  def weekly_salary(self):\n",
        "    return self.salary / 7\n",
        "\n",
        "if __name__ == \"__main__\":\n",
        "  emp01 = Employee(\"Evan\", -50000)\n",
        "  print(emp01.name)\n",
        "  print(emp01.salary)"
      ],
      "metadata": {
        "colab": {
          "base_uri": "https://localhost:8080/",
          "height": 248
        },
        "id": "1y50gzDiZ6ia",
        "outputId": "91e9f4cf-2087-4295-b252-2ba747deb85a"
      },
      "execution_count": null,
      "outputs": [
        {
          "output_type": "stream",
          "name": "stdout",
          "text": [
            "급여는 0원이 될 수 없다. 다시 입력해주세요\n",
            "Evan\n"
          ]
        },
        {
          "output_type": "error",
          "ename": "AttributeError",
          "evalue": "ignored",
          "traceback": [
            "\u001b[0;31m---------------------------------------------------------------------------\u001b[0m",
            "\u001b[0;31mAttributeError\u001b[0m                            Traceback (most recent call last)",
            "\u001b[0;32m<ipython-input-72-7e45228131a3>\u001b[0m in \u001b[0;36m<module>\u001b[0;34m()\u001b[0m\n\u001b[1;32m     23\u001b[0m   \u001b[0memp01\u001b[0m \u001b[0;34m=\u001b[0m \u001b[0mEmployee\u001b[0m\u001b[0;34m(\u001b[0m\u001b[0;34m\"Evan\"\u001b[0m\u001b[0;34m,\u001b[0m \u001b[0;34m-\u001b[0m\u001b[0;36m50000\u001b[0m\u001b[0;34m)\u001b[0m\u001b[0;34m\u001b[0m\u001b[0;34m\u001b[0m\u001b[0m\n\u001b[1;32m     24\u001b[0m   \u001b[0mprint\u001b[0m\u001b[0;34m(\u001b[0m\u001b[0memp01\u001b[0m\u001b[0;34m.\u001b[0m\u001b[0mname\u001b[0m\u001b[0;34m)\u001b[0m\u001b[0;34m\u001b[0m\u001b[0;34m\u001b[0m\u001b[0m\n\u001b[0;32m---> 25\u001b[0;31m   \u001b[0mprint\u001b[0m\u001b[0;34m(\u001b[0m\u001b[0memp01\u001b[0m\u001b[0;34m.\u001b[0m\u001b[0msalary\u001b[0m\u001b[0;34m)\u001b[0m\u001b[0;34m\u001b[0m\u001b[0;34m\u001b[0m\u001b[0m\n\u001b[0m",
            "\u001b[0;31mAttributeError\u001b[0m: 'Employee' object has no attribute 'salary'"
          ]
        }
      ]
    },
    {
      "cell_type": "code",
      "source": [
        "class Employee:\n",
        "\n",
        "  # init constructor\n",
        "  # name, salary\n",
        "  def __init__(self, name, salary = 0):\n",
        "    self.name = name\n",
        "\n",
        "    # 조건문 추가\n",
        "    if salary > 0:\n",
        "      self.salary = salary\n",
        "    else:\n",
        "      self.salary = 0\n",
        "      print(\"급여는 0원이 될 수 없다!. 다시 입력하십시요!!\")\n",
        "\n",
        "  def update_salary(self, amount):\n",
        "    # self.salary = self.salary + amount\n",
        "    self.salary += amount\n",
        "\n",
        "  def weekly_salary(self):\n",
        "    return self.salary / 7\n",
        "\n",
        "if __name__ == \"__main__\":\n",
        "  emp01 = Employee(\"Evan\", -50000)\n",
        "  print(emp01.name)\n",
        "  print(emp01.salary)\n",
        "  emp01.salary = emp01.salary +  1500\n",
        "  print(emp01.salary)\n",
        "  emp01.update_salary(3000)\n",
        "  print(emp01.salary)\n",
        "  weekly_salary"
      ],
      "metadata": {
        "colab": {
          "base_uri": "https://localhost:8080/"
        },
        "id": "MTi90XXbcfhG",
        "outputId": "02a20e80-7f3c-4341-b9ca-2fb094b4f6a3"
      },
      "execution_count": null,
      "outputs": [
        {
          "output_type": "stream",
          "name": "stdout",
          "text": [
            "급여는 0원이 될 수 없다!. 다시 입력하십시요!!\n",
            "Evan\n",
            "0\n",
            "1500\n",
            "4500\n"
          ]
        }
      ]
    }
  ]
}