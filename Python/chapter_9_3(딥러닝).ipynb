{
  "cells": [
    {
      "cell_type": "markdown",
      "metadata": {
        "id": "view-in-github",
        "colab_type": "text"
      },
      "source": [
        "<a href=\"https://colab.research.google.com/github/kjm12misa/Google_drive/blob/main/Python/chapter_9_3(%EB%94%A5%EB%9F%AC%EB%8B%9D).ipynb\" target=\"_parent\"><img src=\"https://colab.research.google.com/assets/colab-badge.svg\" alt=\"Open In Colab\"/></a>"
      ]
    },
    {
      "cell_type": "markdown",
      "metadata": {
        "id": "M2uElKHO7W4Y"
      },
      "source": [
        "## Chapter.9_3\n",
        "#### LSTM 과 GRU 셀\n"
      ]
    },
    {
      "cell_type": "markdown",
      "metadata": {
        "id": "qYWuJ23t7mwh"
      },
      "source": [
        "#### LSTM 신경망 훈련(Long Short-Term Menory)\n",
        "- RNN은 실무에서 쓰지 않음\n",
        "- 문장이 길면 학습 능력이 떨어지는 것을 대안하기 위해 나옴.\n",
        " + 단기 기억을 오래 기억하게 하기 위한 것. (ex. 메모_다시 꺼내서 보는 것과 같음)\n"
      ]
    },
    {
      "cell_type": "markdown",
      "source": [
        "#### 데이터 불러오고 + 훈련, 검증 세트 나누기"
      ],
      "metadata": {
        "id": "DFG90WDa_SlQ"
      }
    },
    {
      "cell_type": "code",
      "execution_count": null,
      "metadata": {
        "colab": {
          "base_uri": "https://localhost:8080/"
        },
        "id": "Ab0T-eXr8M1y",
        "outputId": "241ee65b-9b4f-4d49-a6f3-61172b03b78d"
      },
      "outputs": [
        {
          "output_type": "execute_result",
          "data": {
            "text/plain": [
              "((20000,), (5000,), (20000,), (5000,))"
            ]
          },
          "metadata": {},
          "execution_count": 2
        }
      ],
      "source": [
        "from tensorflow.keras.datasets import imdb\n",
        "from sklearn.model_selection import train_test_split\n",
        "\n",
        "(train_input, train_target), (test_input, test_target) = imdb.load_data(num_words=500)\n",
        "\n",
        "train_input, val_input, train_target, val_target = train_test_split(\n",
        "    train_input, train_target, test_size=0.2, random_state=42)\n",
        "\n",
        "train_input.shape, val_input.shape, train_target.shape, val_target.shape"
      ]
    },
    {
      "cell_type": "markdown",
      "source": [
        "#### padding"
      ],
      "metadata": {
        "id": "TT7g5kQl_KTA"
      }
    },
    {
      "cell_type": "code",
      "source": [
        "from tensorflow.keras.preprocessing.sequence import pad_sequences\n",
        "train_seq = pad_sequences(train_input, maxlen=100)\n",
        "val_seq = pad_sequences(val_input, maxlen=100)\n",
        "print(train_seq.shape, val_seq.shape)"
      ],
      "metadata": {
        "colab": {
          "base_uri": "https://localhost:8080/"
        },
        "id": "2gpSmwsx9iPn",
        "outputId": "5f382a0e-804b-491c-cbdf-69f25b10bf6a"
      },
      "execution_count": null,
      "outputs": [
        {
          "output_type": "stream",
          "name": "stdout",
          "text": [
            "(20000, 100) (5000, 100)\n"
          ]
        }
      ]
    },
    {
      "cell_type": "markdown",
      "source": [
        "#### 모형 만들기"
      ],
      "metadata": {
        "id": "mIX8GbPO_Hmg"
      }
    },
    {
      "cell_type": "code",
      "source": [
        "from tensorflow import keras\n",
        "model = keras.Sequential()\n",
        "model.add(keras.layers.Embedding(500, 16, input_length=100))\n",
        "model.add(keras.layers.LSTM(8))\n",
        "model.add(keras.layers.Dense(1, activation='sigmoid'))\n",
        "\n",
        "model.summary()"
      ],
      "metadata": {
        "colab": {
          "base_uri": "https://localhost:8080/"
        },
        "id": "C6UIsZqH-ZW4",
        "outputId": "e601c851-145c-49f7-8158-2fc1b49d7845"
      },
      "execution_count": null,
      "outputs": [
        {
          "output_type": "stream",
          "name": "stdout",
          "text": [
            "Model: \"sequential_2\"\n",
            "_________________________________________________________________\n",
            " Layer (type)                Output Shape              Param #   \n",
            "=================================================================\n",
            " embedding_1 (Embedding)     (None, 100, 16)           8000      \n",
            "                                                                 \n",
            " lstm_1 (LSTM)               (None, 8)                 800       \n",
            "                                                                 \n",
            " dense_1 (Dense)             (None, 1)                 9         \n",
            "                                                                 \n",
            "=================================================================\n",
            "Total params: 8,809\n",
            "Trainable params: 8,809\n",
            "Non-trainable params: 0\n",
            "_________________________________________________________________\n"
          ]
        }
      ]
    },
    {
      "cell_type": "code",
      "source": [
        "rmsprop = keras.optimizers.RMSprop(learning_rate=1e-4)\n",
        "model.compile(optimizer=rmsprop, loss='binary_crossentropy', \n",
        "              metrics=['accuracy'])\n",
        "\n",
        "checkpoint_cb = keras.callbacks.ModelCheckpoint('best-simplernn-model.h5', \n",
        "                                                save_best_only=True)\n",
        "early_stopping_cb = keras.callbacks.EarlyStopping(patience=3,\n",
        "                                                  restore_best_weights=True)\n",
        "\n",
        "history = model.fit(train_seq, train_target, epochs=100, batch_size=64,\n",
        "                    validation_data=(val_seq, val_target),\n",
        "                    callbacks=[checkpoint_cb, early_stopping_cb])"
      ],
      "metadata": {
        "colab": {
          "base_uri": "https://localhost:8080/"
        },
        "id": "YIg9Jl4V9iM4",
        "outputId": "03f26456-7a54-47ec-9d66-5a643b9637d0"
      },
      "execution_count": null,
      "outputs": [
        {
          "output_type": "stream",
          "name": "stdout",
          "text": [
            "Epoch 1/100\n",
            "313/313 [==============================] - 14s 23ms/step - loss: 0.6928 - accuracy: 0.5243 - val_loss: 0.6922 - val_accuracy: 0.5428\n",
            "Epoch 2/100\n",
            "313/313 [==============================] - 7s 22ms/step - loss: 0.6911 - accuracy: 0.5857 - val_loss: 0.6900 - val_accuracy: 0.6036\n",
            "Epoch 3/100\n",
            "313/313 [==============================] - 7s 21ms/step - loss: 0.6875 - accuracy: 0.6353 - val_loss: 0.6847 - val_accuracy: 0.6462\n",
            "Epoch 4/100\n",
            "313/313 [==============================] - 7s 21ms/step - loss: 0.6759 - accuracy: 0.6720 - val_loss: 0.6623 - val_accuracy: 0.6656\n",
            "Epoch 5/100\n",
            "313/313 [==============================] - 7s 21ms/step - loss: 0.6242 - accuracy: 0.7186 - val_loss: 0.6078 - val_accuracy: 0.7224\n",
            "Epoch 6/100\n",
            "313/313 [==============================] - 6s 20ms/step - loss: 0.5909 - accuracy: 0.7333 - val_loss: 0.5857 - val_accuracy: 0.7378\n",
            "Epoch 7/100\n",
            "313/313 [==============================] - 7s 21ms/step - loss: 0.5685 - accuracy: 0.7502 - val_loss: 0.5664 - val_accuracy: 0.7442\n",
            "Epoch 8/100\n",
            "313/313 [==============================] - 7s 21ms/step - loss: 0.5496 - accuracy: 0.7599 - val_loss: 0.5483 - val_accuracy: 0.7602\n",
            "Epoch 9/100\n",
            "313/313 [==============================] - 6s 20ms/step - loss: 0.5308 - accuracy: 0.7691 - val_loss: 0.5318 - val_accuracy: 0.7700\n",
            "Epoch 10/100\n",
            "313/313 [==============================] - 6s 20ms/step - loss: 0.5136 - accuracy: 0.7772 - val_loss: 0.5157 - val_accuracy: 0.7734\n",
            "Epoch 11/100\n",
            "313/313 [==============================] - 7s 22ms/step - loss: 0.4972 - accuracy: 0.7839 - val_loss: 0.4991 - val_accuracy: 0.7814\n",
            "Epoch 12/100\n",
            "313/313 [==============================] - 7s 21ms/step - loss: 0.4819 - accuracy: 0.7900 - val_loss: 0.4859 - val_accuracy: 0.7840\n",
            "Epoch 13/100\n",
            "313/313 [==============================] - 7s 23ms/step - loss: 0.4684 - accuracy: 0.7954 - val_loss: 0.4745 - val_accuracy: 0.7882\n",
            "Epoch 14/100\n",
            "313/313 [==============================] - 7s 21ms/step - loss: 0.4576 - accuracy: 0.7993 - val_loss: 0.4670 - val_accuracy: 0.7888\n",
            "Epoch 15/100\n",
            "313/313 [==============================] - 7s 21ms/step - loss: 0.4492 - accuracy: 0.8018 - val_loss: 0.4607 - val_accuracy: 0.7916\n",
            "Epoch 16/100\n",
            "313/313 [==============================] - 7s 21ms/step - loss: 0.4429 - accuracy: 0.8047 - val_loss: 0.4559 - val_accuracy: 0.7918\n",
            "Epoch 17/100\n",
            "313/313 [==============================] - 6s 21ms/step - loss: 0.4379 - accuracy: 0.8073 - val_loss: 0.4556 - val_accuracy: 0.7904\n",
            "Epoch 18/100\n",
            "313/313 [==============================] - 6s 21ms/step - loss: 0.4342 - accuracy: 0.8074 - val_loss: 0.4510 - val_accuracy: 0.7940\n",
            "Epoch 19/100\n",
            "313/313 [==============================] - 7s 21ms/step - loss: 0.4307 - accuracy: 0.8098 - val_loss: 0.4492 - val_accuracy: 0.7944\n",
            "Epoch 20/100\n",
            "313/313 [==============================] - 7s 21ms/step - loss: 0.4276 - accuracy: 0.8119 - val_loss: 0.4459 - val_accuracy: 0.7988\n",
            "Epoch 21/100\n",
            "313/313 [==============================] - 7s 22ms/step - loss: 0.4251 - accuracy: 0.8122 - val_loss: 0.4446 - val_accuracy: 0.7994\n",
            "Epoch 22/100\n",
            "313/313 [==============================] - 7s 22ms/step - loss: 0.4232 - accuracy: 0.8116 - val_loss: 0.4463 - val_accuracy: 0.7966\n",
            "Epoch 23/100\n",
            "313/313 [==============================] - 8s 24ms/step - loss: 0.4215 - accuracy: 0.8138 - val_loss: 0.4419 - val_accuracy: 0.7968\n",
            "Epoch 24/100\n",
            "313/313 [==============================] - 8s 26ms/step - loss: 0.4196 - accuracy: 0.8152 - val_loss: 0.4406 - val_accuracy: 0.7996\n",
            "Epoch 25/100\n",
            "313/313 [==============================] - 9s 28ms/step - loss: 0.4182 - accuracy: 0.8154 - val_loss: 0.4408 - val_accuracy: 0.7998\n",
            "Epoch 26/100\n",
            "313/313 [==============================] - 7s 22ms/step - loss: 0.4167 - accuracy: 0.8137 - val_loss: 0.4387 - val_accuracy: 0.8002\n",
            "Epoch 27/100\n",
            "313/313 [==============================] - 7s 22ms/step - loss: 0.4150 - accuracy: 0.8153 - val_loss: 0.4374 - val_accuracy: 0.7988\n",
            "Epoch 28/100\n",
            "313/313 [==============================] - 7s 21ms/step - loss: 0.4136 - accuracy: 0.8173 - val_loss: 0.4361 - val_accuracy: 0.8008\n",
            "Epoch 29/100\n",
            "313/313 [==============================] - 7s 22ms/step - loss: 0.4129 - accuracy: 0.8167 - val_loss: 0.4346 - val_accuracy: 0.8000\n",
            "Epoch 30/100\n",
            "313/313 [==============================] - 8s 25ms/step - loss: 0.4117 - accuracy: 0.8156 - val_loss: 0.4346 - val_accuracy: 0.8012\n",
            "Epoch 31/100\n",
            "313/313 [==============================] - 8s 24ms/step - loss: 0.4111 - accuracy: 0.8154 - val_loss: 0.4343 - val_accuracy: 0.8040\n",
            "Epoch 32/100\n",
            "313/313 [==============================] - 7s 22ms/step - loss: 0.4100 - accuracy: 0.8184 - val_loss: 0.4335 - val_accuracy: 0.8034\n",
            "Epoch 33/100\n",
            "313/313 [==============================] - 7s 22ms/step - loss: 0.4089 - accuracy: 0.8170 - val_loss: 0.4329 - val_accuracy: 0.8016\n",
            "Epoch 34/100\n",
            "313/313 [==============================] - 7s 21ms/step - loss: 0.4080 - accuracy: 0.8181 - val_loss: 0.4311 - val_accuracy: 0.8010\n",
            "Epoch 35/100\n",
            "313/313 [==============================] - 7s 22ms/step - loss: 0.4073 - accuracy: 0.8176 - val_loss: 0.4313 - val_accuracy: 0.8030\n",
            "Epoch 36/100\n",
            "313/313 [==============================] - 7s 21ms/step - loss: 0.4065 - accuracy: 0.8182 - val_loss: 0.4291 - val_accuracy: 0.8036\n",
            "Epoch 37/100\n",
            "313/313 [==============================] - 6s 21ms/step - loss: 0.4056 - accuracy: 0.8178 - val_loss: 0.4284 - val_accuracy: 0.8032\n",
            "Epoch 38/100\n",
            "313/313 [==============================] - 6s 21ms/step - loss: 0.4048 - accuracy: 0.8183 - val_loss: 0.4355 - val_accuracy: 0.8020\n",
            "Epoch 39/100\n",
            "313/313 [==============================] - 6s 21ms/step - loss: 0.4044 - accuracy: 0.8176 - val_loss: 0.4286 - val_accuracy: 0.8036\n",
            "Epoch 40/100\n",
            "313/313 [==============================] - 6s 20ms/step - loss: 0.4031 - accuracy: 0.8191 - val_loss: 0.4274 - val_accuracy: 0.8026\n",
            "Epoch 41/100\n",
            "313/313 [==============================] - 6s 21ms/step - loss: 0.4024 - accuracy: 0.8194 - val_loss: 0.4271 - val_accuracy: 0.8044\n",
            "Epoch 42/100\n",
            "313/313 [==============================] - 7s 21ms/step - loss: 0.4022 - accuracy: 0.8182 - val_loss: 0.4272 - val_accuracy: 0.8062\n",
            "Epoch 43/100\n",
            "313/313 [==============================] - 6s 21ms/step - loss: 0.4012 - accuracy: 0.8211 - val_loss: 0.4294 - val_accuracy: 0.8070\n",
            "Epoch 44/100\n",
            "313/313 [==============================] - 6s 21ms/step - loss: 0.4003 - accuracy: 0.8205 - val_loss: 0.4256 - val_accuracy: 0.8066\n",
            "Epoch 45/100\n",
            "313/313 [==============================] - 7s 22ms/step - loss: 0.4001 - accuracy: 0.8203 - val_loss: 0.4252 - val_accuracy: 0.8092\n",
            "Epoch 46/100\n",
            "313/313 [==============================] - 6s 21ms/step - loss: 0.3993 - accuracy: 0.8207 - val_loss: 0.4256 - val_accuracy: 0.8068\n",
            "Epoch 47/100\n",
            "313/313 [==============================] - 6s 21ms/step - loss: 0.3987 - accuracy: 0.8210 - val_loss: 0.4273 - val_accuracy: 0.8058\n",
            "Epoch 48/100\n",
            "313/313 [==============================] - 6s 21ms/step - loss: 0.3978 - accuracy: 0.8207 - val_loss: 0.4248 - val_accuracy: 0.8082\n",
            "Epoch 49/100\n",
            "313/313 [==============================] - 7s 21ms/step - loss: 0.3973 - accuracy: 0.8216 - val_loss: 0.4252 - val_accuracy: 0.8062\n",
            "Epoch 50/100\n",
            "313/313 [==============================] - 6s 21ms/step - loss: 0.3967 - accuracy: 0.8213 - val_loss: 0.4237 - val_accuracy: 0.8106\n",
            "Epoch 51/100\n",
            "313/313 [==============================] - 7s 22ms/step - loss: 0.3960 - accuracy: 0.8215 - val_loss: 0.4252 - val_accuracy: 0.8088\n",
            "Epoch 52/100\n",
            "313/313 [==============================] - 7s 21ms/step - loss: 0.3958 - accuracy: 0.8227 - val_loss: 0.4288 - val_accuracy: 0.8048\n",
            "Epoch 53/100\n",
            "313/313 [==============================] - 7s 21ms/step - loss: 0.3949 - accuracy: 0.8237 - val_loss: 0.4260 - val_accuracy: 0.8068\n"
          ]
        }
      ]
    },
    {
      "cell_type": "markdown",
      "source": [
        "#### 손실 곡선 추가\n",
        "- 기본 순환층 보다 LSTM이 과대적합을 억제하면서 훈련을 잘 수행함.\n",
        "- 과대적합을 더 강하게 제어하기 위해 드롭아웃을 적용 시켜 보자."
      ],
      "metadata": {
        "id": "0izTevIJ_xZ5"
      }
    },
    {
      "cell_type": "code",
      "source": [
        "import matplotlib.pyplot as plt\n",
        "\n",
        "plt.plot(history.history['loss'])\n",
        "plt.plot(history.history['val_loss'])\n",
        "plt.xlabel('epoch')\n",
        "plt.ylabel('loss')\n",
        "plt.legend(['train', 'val'])\n",
        "plt.show()"
      ],
      "metadata": {
        "colab": {
          "base_uri": "https://localhost:8080/",
          "height": 278
        },
        "id": "rZXyF2Ie9iFo",
        "outputId": "7910a542-c727-4c6c-d025-99df11414dd6"
      },
      "execution_count": null,
      "outputs": [
        {
          "output_type": "display_data",
          "data": {
            "text/plain": [
              "<Figure size 432x288 with 1 Axes>"
            ],
            "image/png": "[encoded data removed]"
          },
          "metadata": {
            "needs_background": "light"
          }
        }
      ]
    },
    {
      "cell_type": "markdown",
      "source": [
        "### 순환층에 드롭아웃 적용\n",
        "- 앞에 것과 중복으로 model2로 설정하여 모형 만들고 모형평가"
      ],
      "metadata": {
        "id": "2NC6mx5KAPb4"
      }
    },
    {
      "cell_type": "code",
      "source": [
        "model2 = keras.Sequential()\n",
        "\n",
        "model2.add(keras.layers.Embedding(500, 16, input_length=100))\n",
        "# 드롭아웃 추가\n",
        "model2.add(keras.layers.LSTM(8, dropout=0.3))\n",
        "model2.add(keras.layers.Dense(1, activation='sigmoid'))\n",
        "\n",
        "rmsprop = keras.optimizers.RMSprop(learning_rate=1e-4)\n",
        "model2.compile(optimizer=rmsprop, loss='binary_crossentropy', \n",
        "               metrics=['accuracy'])\n",
        "\n",
        "checkpoint_cb = keras.callbacks.ModelCheckpoint('best-dropout-model.h5', \n",
        "                                                save_best_only=True)\n",
        "early_stopping_cb = keras.callbacks.EarlyStopping(patience=3,\n",
        "                                                  restore_best_weights=True)\n",
        "\n",
        "# epcohs = 100\n",
        "history = model2.fit(train_seq, train_target, epochs=10, batch_size=64,\n",
        "                     validation_data=(val_seq, val_target),\n",
        "                     callbacks=[checkpoint_cb, early_stopping_cb])\n",
        "\n",
        "plt.plot(history.history['loss'])\n",
        "plt.plot(history.history['val_loss'])\n",
        "plt.xlabel('epoch')\n",
        "plt.ylabel('loss')\n",
        "plt.legend(['train', 'val'])\n",
        "plt.show()"
      ],
      "metadata": {
        "colab": {
          "base_uri": "https://localhost:8080/",
          "height": 650
        },
        "id": "8mbfyFZz_cyP",
        "outputId": "a4a2fbcd-41b1-463b-b6ff-19b62a02d563"
      },
      "execution_count": null,
      "outputs": [
        {
          "output_type": "stream",
          "name": "stdout",
          "text": [
            "Epoch 1/10\n",
            "313/313 [==============================] - 11s 25ms/step - loss: 0.6924 - accuracy: 0.5264 - val_loss: 0.6915 - val_accuracy: 0.5654\n",
            "Epoch 2/10\n",
            "313/313 [==============================] - 7s 21ms/step - loss: 0.6892 - accuracy: 0.6015 - val_loss: 0.6862 - val_accuracy: 0.6436\n",
            "Epoch 3/10\n",
            "313/313 [==============================] - 7s 21ms/step - loss: 0.6737 - accuracy: 0.6750 - val_loss: 0.6473 - val_accuracy: 0.6990\n",
            "Epoch 4/10\n",
            "313/313 [==============================] - 7s 21ms/step - loss: 0.5999 - accuracy: 0.7080 - val_loss: 0.5804 - val_accuracy: 0.7162\n",
            "Epoch 5/10\n",
            "313/313 [==============================] - 6s 21ms/step - loss: 0.5702 - accuracy: 0.7206 - val_loss: 0.5574 - val_accuracy: 0.7386\n",
            "Epoch 6/10\n",
            "313/313 [==============================] - 7s 21ms/step - loss: 0.5498 - accuracy: 0.7369 - val_loss: 0.5389 - val_accuracy: 0.7434\n",
            "Epoch 7/10\n",
            "313/313 [==============================] - 7s 22ms/step - loss: 0.5338 - accuracy: 0.7477 - val_loss: 0.5231 - val_accuracy: 0.7604\n",
            "Epoch 8/10\n",
            "313/313 [==============================] - 7s 21ms/step - loss: 0.5180 - accuracy: 0.7596 - val_loss: 0.5124 - val_accuracy: 0.7630\n",
            "Epoch 9/10\n",
            "313/313 [==============================] - 7s 21ms/step - loss: 0.5029 - accuracy: 0.7666 - val_loss: 0.4959 - val_accuracy: 0.7776\n",
            "Epoch 10/10\n",
            "313/313 [==============================] - 7s 22ms/step - loss: 0.4886 - accuracy: 0.7753 - val_loss: 0.4846 - val_accuracy: 0.7822\n"
          ]
        },
        {
          "output_type": "display_data",
          "data": {
            "text/plain": [
              "<Figure size 432x288 with 1 Axes>"
            ],
            "image/png": "[encoded data removed]"
          },
          "metadata": {
            "needs_background": "light"
          }
        }
      ]
    },
    {
      "cell_type": "markdown",
      "source": [
        "### 2개의 층 연결\n",
        "- 주의할 점 : 모든 순환층의 순차 데이터가 필요. 따라서, 앞쪽의 순환층의 모든 타임스텝에 대한 은닉 상태를 출력해야 함.\n",
        " + 케라스의 순환층에서 모든 타임스텝의 은닉 상태를 출력하려면 마지막을 제외한 다른 모든 순환층에서 return_sequences 매개변수를  True로 지정하면 됨."
      ],
      "metadata": {
        "id": "uMkv5FrGBfMw"
      }
    },
    {
      "cell_type": "markdown",
      "source": [
        ""
      ],
      "metadata": {
        "id": "KbIgmNgiDXgQ"
      }
    },
    {
      "cell_type": "code",
      "source": [
        "model3 = keras.Sequential()\n",
        "model3.add(keras.layers.Embedding(500, 16, input_length=100))\n",
        "model3.add(keras.layers.LSTM(8, dropout=0.3, return_sequences=True)) # 모든 순환층에서 은닉 출력\n",
        "model3.add(keras.layers.LSTM(8, dropout=0.3)) # 마지막 타임스텝의 은닉상태만 출력하기 때문에 (None, 8)로 출력.\n",
        "model3.add(keras.layers.Dense(1, activation='sigmoid'))\n",
        "\n",
        "model3.summary()"
      ],
      "metadata": {
        "colab": {
          "base_uri": "https://localhost:8080/"
        },
        "id": "1lyqPhXD_cv4",
        "outputId": "379baa66-c3b4-4c78-f949-603c9af82377"
      },
      "execution_count": null,
      "outputs": [
        {
          "output_type": "stream",
          "name": "stdout",
          "text": [
            "Model: \"sequential_5\"\n",
            "_________________________________________________________________\n",
            " Layer (type)                Output Shape              Param #   \n",
            "=================================================================\n",
            " embedding_4 (Embedding)     (None, 100, 16)           8000      \n",
            "                                                                 \n",
            " lstm_5 (LSTM)               (None, 100, 8)            800       \n",
            "                                                                 \n",
            " lstm_6 (LSTM)               (None, 8)                 544       \n",
            "                                                                 \n",
            " dense_4 (Dense)             (None, 1)                 9         \n",
            "                                                                 \n",
            "=================================================================\n",
            "Total params: 9,353\n",
            "Trainable params: 9,353\n",
            "Non-trainable params: 0\n",
            "_________________________________________________________________\n"
          ]
        }
      ]
    },
    {
      "cell_type": "markdown",
      "source": [
        "- 앞에 코드를 반복(P.536~537)\n",
        " + 그래프를 보니 과대적합을 제어하면서 손실을 최대로 낮춘거 같다."
      ],
      "metadata": {
        "id": "ANofJD0eEDRh"
      }
    }
  ],
  "metadata": {
    "accelerator": "GPU",
    "colab": {
      "name": "chapter.9_3(딥러닝).ipynb",
      "provenance": [],
      "collapsed_sections": [],
      "authorship_tag": "ABX9TyNf3nhn2VxgIm2lGsZBHYe6",
      "include_colab_link": true
    },
    "kernelspec": {
      "display_name": "Python 3",
      "name": "python3"
    },
    "language_info": {
      "name": "python"
    }
  },
  "nbformat": 4,
  "nbformat_minor": 0
}