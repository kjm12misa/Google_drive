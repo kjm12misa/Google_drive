{
  "nbformat": 4,
  "nbformat_minor": 0,
  "metadata": {
    "colab": {
      "name": "chapter.5_2.ipynb",
      "provenance": [],
      "authorship_tag": "ABX9TyPiNr+bfSlChkH9vJtAJfq7",
      "include_colab_link": true
    },
    "kernelspec": {
      "name": "python3",
      "display_name": "Python 3"
    },
    "language_info": {
      "name": "python"
    }
  },
  "cells": [
    {
      "cell_type": "markdown",
      "metadata": {
        "id": "view-in-github",
        "colab_type": "text"
      },
      "source": [
        "<a href=\"https://colab.research.google.com/github/kjm12misa/Google_drive/blob/main/Python/chapter_5_2.ipynb\" target=\"_parent\"><img src=\"https://colab.research.google.com/assets/colab-badge.svg\" alt=\"Open In Colab\"/></a>"
      ]
    },
    {
      "cell_type": "markdown",
      "source": [
        "#### 교차 검증과 그리드 서치\n",
        "- 키워드 : 하이퍼 파라미터(그리드 서치 vs 랜덤서치)\n",
        "- 데이터가 작을 때 주로 사용\n",
        "- 하이퍼파라미터\n",
        "  + max_depth : 3, 정확도 84%\n",
        "- 결론\n",
        "  + 모른다면 디폴트만 쓰자 또는 다 써보고 머가 좋은지 고른다.\n",
        "  + 가성비(시간대비 성능 보장이 안됨)\n",
        "\n",
        "#### 검증 세트\n",
        "- 테스트 세트 (1회성)\n",
        "- 훈련 데이터를 훈련데이터 + 검증 데이터로 재 분할\n",
        "\n",
        "#### 현실\n",
        "- 테스트 데이터가 별도로 존재하지 않고, 항상 데이터가 존재하지는 않기 때문에 그 전날의 데이터를 모아 테스트 데이터를 분류하여 이전 버전과 비교 후 더 좋은거 사용\n",
        "- 전체 데이터 - 훈련(6) : 검증(2) : 테스트(2) --> 보통 관례적으로 이렇게 구분함.\n",
        "  + 훈련-검증-테스트 결과 안좋으면 다시 훈련-검증,,훈련-검증,,,\n",
        "  + 테스트 데이터는 모르는 데이터로 생각?"
      ],
      "metadata": {
        "id": "TGMkkU2yNQQV"
      }
    },
    {
      "cell_type": "markdown",
      "source": [
        "#### 데이터 불러오기"
      ],
      "metadata": {
        "id": "8wjEF6MlgwWU"
      }
    },
    {
      "cell_type": "code",
      "execution_count": null,
      "metadata": {
        "id": "FmOiyeAcMrI-"
      },
      "outputs": [],
      "source": [
        "import pandas as pd\n",
        "wine = pd.read_csv('http://bit.ly/wine_csv_data')"
      ]
    },
    {
      "cell_type": "code",
      "source": [
        "data = wine[['alcohol', 'sugar', 'pH']].to_numpy()\n",
        "target= wine['class'].to_numpy()"
      ],
      "metadata": {
        "id": "F0v7DtN_QTM9"
      },
      "execution_count": null,
      "outputs": []
    },
    {
      "cell_type": "code",
      "source": [
        "from sklearn.model_selection import train_test_split\n",
        "train_input, test_input, train_target, test_target = train_test_split(data, target, random_state=42)\n",
        "\n",
        "sub_input, val_input, sub_target, val_target = train_test_split(train_input, train_target, test_size = 0.2, random_state=42)\n",
        "print(sub_input.shape, val_input.shape)"
      ],
      "metadata": {
        "colab": {
          "base_uri": "https://localhost:8080/"
        },
        "id": "v6GYoJQFQT8U",
        "outputId": "5eb22db6-1d05-428d-e72f-566328078c47"
      },
      "execution_count": null,
      "outputs": [
        {
          "output_type": "stream",
          "name": "stdout",
          "text": [
            "(3897, 3) (975, 3)\n"
          ]
        }
      ]
    },
    {
      "cell_type": "code",
      "source": [
        "from sklearn.tree import DecisionTreeClassifier\n",
        "dt = DecisionTreeClassifier(random_state=42)\n",
        "dt.fit(sub_input, sub_target)\n",
        "print(dt.score(sub_input, sub_target))\n",
        "print(dt.score(val_input, val_target))"
      ],
      "metadata": {
        "colab": {
          "base_uri": "https://localhost:8080/"
        },
        "id": "6Tjb7HTyQT50",
        "outputId": "15c26d8b-5603-46ad-a926-c8d604b09de2"
      },
      "execution_count": null,
      "outputs": [
        {
          "output_type": "stream",
          "name": "stdout",
          "text": [
            "0.997947138824737\n",
            "0.8420512820512821\n"
          ]
        }
      ]
    },
    {
      "cell_type": "markdown",
      "source": [
        "#### 교차 검증의 목적\n",
        "- 좋은 모델이 만들어짐.\n",
        "  + 좋은 모델 != 성능 좋은 모델\n",
        "  + 좋은 모델 = 과대적합이 아니고 모형의 오차가 적고 안정적인 모델\n",
        "- P.245 <시간대비 가성비가 중요>\n",
        "  + 모델평가 1 : 90% (소요시간 1시간)\n",
        "  + 모델평가 2 : 85%\n",
        "  + 모델평가 3 : 80%\n",
        "- 단점 : 데이터의 양이 많으면 시간이 많이 소요됨. 적은 양에 더 잘 쓰임.\n",
        "\n",
        "#### 교차 검증 함수↓"
      ],
      "metadata": {
        "id": "RodM3tbgSM6O"
      }
    },
    {
      "cell_type": "code",
      "source": [
        "from sklearn.model_selection import cross_validate\n",
        "scores = cross_validate(dt, train_input, train_target)\n",
        "print(scores)"
      ],
      "metadata": {
        "colab": {
          "base_uri": "https://localhost:8080/"
        },
        "id": "PClLUDavQT3U",
        "outputId": "4faeaac1-bcac-4fea-eb87-21a324e01ba5"
      },
      "execution_count": null,
      "outputs": [
        {
          "output_type": "stream",
          "name": "stdout",
          "text": [
            "{'fit_time': array([0.00883842, 0.0072813 , 0.00674725, 0.00664949, 0.00726604]), 'score_time': array([0.00073314, 0.00057125, 0.00085616, 0.0005827 , 0.00072289]), 'test_score': array([0.85128205, 0.84820513, 0.8788501 , 0.85112936, 0.84394251])}\n"
          ]
        }
      ]
    },
    {
      "cell_type": "markdown",
      "source": [
        "#### 최정 점수 평균 구하기"
      ],
      "metadata": {
        "id": "GmeLvIYYTzhW"
      }
    },
    {
      "cell_type": "code",
      "source": [
        "import numpy as np\n",
        "print(np.mean(scores['test_score']))"
      ],
      "metadata": {
        "colab": {
          "base_uri": "https://localhost:8080/"
        },
        "id": "pKfVL_VGQT0c",
        "outputId": "885d8126-f7d2-4462-df29-ef8bf0ea9264"
      },
      "execution_count": null,
      "outputs": [
        {
          "output_type": "stream",
          "name": "stdout",
          "text": [
            "0.8546818301479492\n"
          ]
        }
      ]
    },
    {
      "cell_type": "markdown",
      "source": [
        "- 훈련 세트 섞은 후 10-폴드 교차 검증"
      ],
      "metadata": {
        "id": "C1-nZQfvU55G"
      }
    },
    {
      "cell_type": "code",
      "source": [
        "from sklearn.model_selection import StratifiedKFold\n",
        "splitter = StratifiedKFold(n_splits = 10, shuffle = True, random_state=42)\n",
        "scores = cross_validate(dt, train_input, train_target, cv = splitter)\n",
        "\n",
        "print(np.mean(scores['test_score']))"
      ],
      "metadata": {
        "colab": {
          "base_uri": "https://localhost:8080/"
        },
        "id": "NSaTuvmbU_Xu",
        "outputId": "d0ccb00e-8e25-45c1-c319-b79dcc9cea40"
      },
      "execution_count": null,
      "outputs": [
        {
          "output_type": "stream",
          "name": "stdout",
          "text": [
            "0.868634917696166\n"
          ]
        }
      ]
    },
    {
      "cell_type": "markdown",
      "source": [
        "#### 하이퍼 파라미터 튜닝을 할 시에는 랜덤 서치 사용.\n",
        "- 요즘은 하이퍼 파라미터를 자동으로 잡아주는 라이브러리가 존재\n",
        "  + hyperopt\n",
        "\n",
        "- n_jobs 의미(작업수를 늘리면 시간 감소)\n",
        "  + 현재 내가 가지고 있는 모든 something,,을 써서 하겠다.\n",
        "  + n_module은 동시에 실행 중인 워커의 최대 수를 지정하는 정수이다. 1을 지정하면 joblib 병렬화가 전혀 사용되지 않으므로 디버깅에 도움이 됩니다. -1로 설정하면 모든 CPU가 사용됩니다. -1 미만의 n_jobs의 경우 (n_cpus + 1 + n_jobs)가 사용됩니다.\n",
        "    + 출처 : 구글 검색(n_jobs = -1/People also ask)"
      ],
      "metadata": {
        "id": "zAR4OGiEaDG7"
      }
    },
    {
      "cell_type": "code",
      "source": [
        "from sklearn.model_selection import GridSearchCV\n",
        "params = {'min_impurity_decrease': [0.0001, 0.0002, 0.0003, 0.0004, 0.0005]}\n",
        "\n",
        "gs = GridSearchCV(DecisionTreeClassifier(random_state=42), params, n_jobs = -1)\n",
        "gs.fit(train_input, train_target)"
      ],
      "metadata": {
        "colab": {
          "base_uri": "https://localhost:8080/"
        },
        "id": "4trr3wgnQTxt",
        "outputId": "31c95ae1-4aa5-4832-fb8e-d2f411326cb8"
      },
      "execution_count": null,
      "outputs": [
        {
          "output_type": "execute_result",
          "data": {
            "text/plain": [
              "GridSearchCV(estimator=DecisionTreeClassifier(random_state=42), n_jobs=-1,\n",
              "             param_grid={'min_impurity_decrease': [0.0001, 0.0002, 0.0003,\n",
              "                                                   0.0004, 0.0005]})"
            ]
          },
          "metadata": {},
          "execution_count": 27
        }
      ]
    },
    {
      "cell_type": "markdown",
      "source": [
        "- gridsearchcv best estimator\n",
        "  + 누락된 데이터에 대해 가장 높은 점수(또는 지정된 경우 가장 작은 손실)를 준 추정기\n",
        "  + refit=False이면 사용할 수 없다."
      ],
      "metadata": {
        "id": "osore8pv0-wC"
      }
    },
    {
      "cell_type": "code",
      "source": [
        "dt = gs.best_estimator_\n",
        "print(dt.score(train_input, train_target))\n",
        "print(gs.best_params_)\n",
        "print(gs.cv_results_['mean_test_score'])"
      ],
      "metadata": {
        "colab": {
          "base_uri": "https://localhost:8080/"
        },
        "id": "wXLQac2mQTu8",
        "outputId": "02938972-a227-44a2-cff0-d0157cc0a8b6"
      },
      "execution_count": null,
      "outputs": [
        {
          "output_type": "stream",
          "name": "stdout",
          "text": [
            "0.9137931034482759\n",
            "{'min_impurity_decrease': 0.0003}\n",
            "[0.86843111 0.86925267 0.87315179 0.87212531 0.87130627]\n"
          ]
        }
      ]
    },
    {
      "cell_type": "markdown",
      "source": [
        "#### 랜덤 서치 P.252\n",
        "- 매개변수 값의 목록을 전달하는 것이 아니라 매개변수를 샘플링할 수 있도록 확률 분포 객체를 전달.(범위를 잡아준 후 나름의 확률에 인해서,,)"
      ],
      "metadata": {
        "id": "-orMo5j3eAxi"
      }
    },
    {
      "cell_type": "code",
      "source": [
        "from scipy.stats import uniform, randint\n",
        "rgen = randint(0, 10)\n",
        "rgen.rvs(10)"
      ],
      "metadata": {
        "colab": {
          "base_uri": "https://localhost:8080/"
        },
        "id": "bKeSXpMeUAHm",
        "outputId": "77fe0b3d-a29d-4a93-d06a-46b49c80f929"
      },
      "execution_count": null,
      "outputs": [
        {
          "output_type": "execute_result",
          "data": {
            "text/plain": [
              "array([2, 8, 8, 9, 2, 9, 5, 1, 5, 9])"
            ]
          },
          "metadata": {},
          "execution_count": 30
        }
      ]
    },
    {
      "cell_type": "code",
      "source": [
        "np.unique(rgen.rvs(1000), return_counts = True)"
      ],
      "metadata": {
        "colab": {
          "base_uri": "https://localhost:8080/"
        },
        "id": "nnCHr6URUAFH",
        "outputId": "f47e7434-33b8-4b57-b8f2-7794995807f1"
      },
      "execution_count": null,
      "outputs": [
        {
          "output_type": "execute_result",
          "data": {
            "text/plain": [
              "(array([0, 1, 2, 3, 4, 5, 6, 7, 8, 9]),\n",
              " array([107,  96,  90,  98,  98,  95, 108,  97, 112,  99]))"
            ]
          },
          "metadata": {},
          "execution_count": 31
        }
      ]
    },
    {
      "cell_type": "markdown",
      "source": [
        "- randint()\n",
        "  + 랜덤 정수 생성(포함 범위로 부터 임의의 정수값)\n",
        "  + eg. randint(0. 5) -> [0, 1, 2, 3, 4, 5]의 난수를 반환한다."
      ],
      "metadata": {
        "id": "s678qp9N2h40"
      }
    },
    {
      "cell_type": "code",
      "source": [
        "from sklearn.model_selection import RandomizedSearchCV\n",
        "params = {\n",
        "    'min_impurity_decrease': uniform(0.0001, 0.001),\n",
        "    'max_depth': randint(20, 50)}\n",
        "\n",
        "gs = RandomizedSearchCV(DecisionTreeClassifier(random_state=42),\n",
        "                        params, n_iter=100, n_jobs = -1, random_state=42)\n",
        "gs.fit(train_input, train_target)"
      ],
      "metadata": {
        "colab": {
          "base_uri": "https://localhost:8080/"
        },
        "id": "7onGkjWWUACn",
        "outputId": "087ad5b7-fb99-4e30-a38e-408e04edcd25"
      },
      "execution_count": null,
      "outputs": [
        {
          "output_type": "execute_result",
          "data": {
            "text/plain": [
              "RandomizedSearchCV(estimator=DecisionTreeClassifier(random_state=42),\n",
              "                   n_iter=100, n_jobs=-1,\n",
              "                   param_distributions={'max_depth': <scipy.stats._distn_infrastructure.rv_frozen object at 0x7fa8927441d0>,\n",
              "                                        'min_impurity_decrease': <scipy.stats._distn_infrastructure.rv_frozen object at 0x7fa89273bf10>},\n",
              "                   random_state=42)"
            ]
          },
          "metadata": {},
          "execution_count": 37
        }
      ]
    },
    {
      "cell_type": "code",
      "source": [
        "gs.best_params_"
      ],
      "metadata": {
        "colab": {
          "base_uri": "https://localhost:8080/"
        },
        "id": "U1Y8mPfZUAAP",
        "outputId": "025ea3b9-3b80-4d3e-c9da-6ec7fbb667d4"
      },
      "execution_count": null,
      "outputs": [
        {
          "output_type": "execute_result",
          "data": {
            "text/plain": [
              "{'max_depth': 21, 'min_impurity_decrease': 0.0002818249672071006}"
            ]
          },
          "metadata": {},
          "execution_count": 38
        }
      ]
    }
  ]
}