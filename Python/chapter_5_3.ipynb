{
  "nbformat": 4,
  "nbformat_minor": 0,
  "metadata": {
    "colab": {
      "name": "chapter.5_3.ipynb",
      "provenance": [],
      "collapsed_sections": [],
      "authorship_tag": "ABX9TyPoIjdBl+0L0W/pkRjdSi9/",
      "include_colab_link": true
    },
    "kernelspec": {
      "name": "python3",
      "display_name": "Python 3"
    },
    "language_info": {
      "name": "python"
    }
  },
  "cells": [
    {
      "cell_type": "markdown",
      "metadata": {
        "id": "view-in-github",
        "colab_type": "text"
      },
      "source": [
        "<a href=\"https://colab.research.google.com/github/kjm12misa/Google_drive/blob/main/Python/chapter_5_3.ipynb\" target=\"_parent\"><img src=\"https://colab.research.google.com/assets/colab-badge.svg\" alt=\"Open In Colab\"/></a>"
      ]
    },
    {
      "cell_type": "markdown",
      "source": [
        "last class\n",
        "#### 트리의 앙상블\n",
        "- LightGBM 중요! \n",
        "  + GBM -> XGBoost -> LightGBM\n",
        "  + 참고 1 : 모델 개발 속도가 빨라졌나/2. 모델의 성능이 좋아졌나\n",
        "- TabNet(2019)\n",
        "  + 딥러닝 컨셉.\n",
        "\n",
        "#### 랜덤 포레스트\n",
        "- 결정 트리 나무 500개 심기\n",
        "- 최종적인 결정은 투표 방식\n",
        "  + 나무-1 : 양성, 나무-2 : 음성, 나무-3 : 양성 ... 나무-500 : 음성\n",
        "\n",
        "#### 용어 정리 및 여러 함수 뜻 참조함.\n",
        "출처 : https://inuplace.tistory.com/570"
      ],
      "metadata": {
        "id": "ZRBETlfImkPn"
      }
    },
    {
      "cell_type": "markdown",
      "source": [
        "#### 데이터 불러오기"
      ],
      "metadata": {
        "id": "1W0xLfJr3_1L"
      }
    },
    {
      "cell_type": "code",
      "execution_count": 3,
      "metadata": {
        "id": "qtQZ1v6UmKpY"
      },
      "outputs": [],
      "source": [
        "import numpy as np\n",
        "import pandas as pd\n",
        "from sklearn.model_selection import train_test_split\n",
        "\n",
        "wine = pd.read_csv('https://bit.ly/wine_csv_data')\n",
        "\n",
        "data = wine[['alcohol', 'sugar', 'pH']].to_numpy()\n",
        "target = wine['class'].to_numpy()\n",
        "\n",
        "train_input, test_input, train_target, test_target = train_test_split(data, \n",
        "                                                                      target, \n",
        "                                                                      test_size=0.2, \n",
        "                                                                      random_state=42)"
      ]
    },
    {
      "cell_type": "markdown",
      "source": [
        "P.267\n",
        "- cross_validate() 교차 검증 수행\n",
        "  - 함수 안에 있는 것은 매개변수와 같은 식으로 쓰인다.\n",
        "  + 데이터 세트를 교육용과 테스트용 두 부분으로 나눈다.\n",
        "  + 교육 세트에 모델을 교육/테스트 세트의 모델을 검증\n",
        "  + 1~3단계를 몇 번 반복(이 수치는 사용하고 있는 **CV** 방식에 따라 달라짐)\n",
        "- 순서\n",
        "  1. 전체 데이터 세트를 무작위로 k개의 \"폴드\"로 분할\n",
        "  2. 데이터 집합의 각 k-fold에 대해 데이터 집합의 k – 1배에서 모델을 구축\n",
        "  3. 각 예측에 표시되는 오류를 기록\n",
        "  4. 각 k-폴드가 테스트 세트로 사용될 때까지 이 과정을 반복\n",
        "\n",
        "  ? 왜 모든 식마다 n_jobs = -1이 들어가는건가?\n",
        "  - 모든 수식 안마다 모든 CPU를 사용해 준다?"
      ],
      "metadata": {
        "id": "seOVo6CdpZ4P"
      }
    },
    {
      "cell_type": "code",
      "source": [
        "from sklearn.model_selection import cross_validate\n",
        "from sklearn.ensemble import RandomForestClassifier\n",
        "rf = RandomForestClassifier(n_jobs=-1, random_state=42)\n",
        "scores = cross_validate(rf, train_input, train_target,\n",
        "                        return_train_score = True, n_jobs=-1)\n",
        "\n",
        "print(np.mean(scores['train_score']), np.mean(scores['test_score']))"
      ],
      "metadata": {
        "colab": {
          "base_uri": "https://localhost:8080/"
        },
        "id": "xy0krrAfpYr2",
        "outputId": "de176e0b-b079-4f69-e500-d4d436b3f014"
      },
      "execution_count": 6,
      "outputs": [
        {
          "output_type": "stream",
          "name": "stdout",
          "text": [
            "0.9973541965122431 0.8905151032797809\n"
          ]
        }
      ]
    },
    {
      "cell_type": "code",
      "source": [
        "rf.fit(train_input, train_target)\n",
        "print(rf.feature_importances_)"
      ],
      "metadata": {
        "colab": {
          "base_uri": "https://localhost:8080/"
        },
        "id": "UrcgnWoCpYpm",
        "outputId": "fc6f9639-7ab5-4458-f99e-434842e6c85e"
      },
      "execution_count": 7,
      "outputs": [
        {
          "output_type": "stream",
          "name": "stdout",
          "text": [
            "[0.23167441 0.50039841 0.26792718]\n"
          ]
        }
      ]
    },
    {
      "cell_type": "markdown",
      "source": [
        "- oob_score\n",
        "  + oob는 out-of-bag의 약자\n",
        "  + 부트스트랩 샘플링 시 선택되지 않은 샘플\n",
        "  +** oob_score를 true로 하면 훈련 종료 후 oob 샘플을 기반으로 평가를 수행**"
      ],
      "metadata": {
        "id": "iyBeTpbQ9S4u"
      }
    },
    {
      "cell_type": "code",
      "source": [
        "rf = RandomForestClassifier(oob_score = True, n_jobs=-1, random_state=42)\n",
        "rf.fit(train_input, train_target)\n",
        "print(rf.oob_score_)"
      ],
      "metadata": {
        "colab": {
          "base_uri": "https://localhost:8080/"
        },
        "id": "nroJ-90bpYm1",
        "outputId": "a91ce4d3-8385-4a32-b13e-21da2898ecbf"
      },
      "execution_count": 8,
      "outputs": [
        {
          "output_type": "stream",
          "name": "stdout",
          "text": [
            "0.8934000384837406\n"
          ]
        }
      ]
    },
    {
      "cell_type": "markdown",
      "source": [
        "#### 그레이디언트 부스팅\n",
        "- 이전 트리의 오차를 보완하는 방식\n",
        " + 깊이가 얕은 트리를 사용\n",
        " + 학습률 매개변수로 속도를 조절\n",
        " + 단점 : 속도가 느림."
      ],
      "metadata": {
        "id": "IklgeMUJsXHn"
      }
    },
    {
      "cell_type": "code",
      "source": [
        "from sklearn.ensemble import GradientBoostingClassifier\n",
        "gb = GradientBoostingClassifier(random_state=42)\n",
        "\n",
        "score = cross_validate(gb, train_input, train_target,\n",
        "                       return_train_score = True, n_jobs=-1) # (True 일 때) 훈련 종료 후 return_train_score 샘플을 기반으로 평가 수행\n",
        "\n",
        "print(np.mean(scores['train_score']), np.mean(scores['test_score']))"
      ],
      "metadata": {
        "colab": {
          "base_uri": "https://localhost:8080/"
        },
        "id": "8cXmKc7vpYkG",
        "outputId": "3db4c677-edc5-4048-e25d-f930e2fb3c2d"
      },
      "execution_count": 11,
      "outputs": [
        {
          "output_type": "stream",
          "name": "stdout",
          "text": [
            "0.9973541965122431 0.8905151032797809\n"
          ]
        }
      ]
    },
    {
      "cell_type": "code",
      "source": [
        "gb = GradientBoostingClassifier(n_estimators = 500, learning_rate = 0.2, random_state=42)\n",
        "\n",
        "score = cross_validate(gb, train_input, train_target,\n",
        "                       return_train_score = True, n_jobs=-1)\n",
        "# ↑score는 cross_validate 함수 안 식들으 합친 값\n",
        "# 설정해 놓은 gb + train_input + train_target + True로 정한 return_train_score의 훈련 종료 후 샘플을 기반으로 모든 CPU에서 평가를 수행한다. 라는 뜻?\n",
        "\n",
        "print(np.mean(scores['train_score']), np.mean(scores['test_score']))"
      ],
      "metadata": {
        "colab": {
          "base_uri": "https://localhost:8080/"
        },
        "id": "QdIID-fcpYhO",
        "outputId": "ca1ce60d-6982-42ab-a1e9-8d710f660123"
      },
      "execution_count": 12,
      "outputs": [
        {
          "output_type": "stream",
          "name": "stdout",
          "text": [
            "0.9973541965122431 0.8905151032797809\n"
          ]
        }
      ]
    },
    {
      "cell_type": "markdown",
      "source": [
        "데이터 전처리/시각화 -> 기본 모형으로 전체 흐름 설계 -> 여러 모형으로 비교 대조 -> 교차 검증, 하이퍼파라미터 성능 비교,,, => 머신러닝"
      ],
      "metadata": {
        "id": "UXBXZ2TMun9w"
      }
    }
  ]
}